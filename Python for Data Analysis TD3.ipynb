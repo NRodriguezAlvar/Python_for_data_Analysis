{
 "cells": [
  {
   "cell_type": "markdown",
   "metadata": {},
   "source": [
    "# TD 3 : Python for Data Analysis"
   ]
  },
  {
   "cell_type": "markdown",
   "metadata": {},
   "source": [
    "## 1.1 Comprehension List"
   ]
  },
  {
   "cell_type": "code",
   "execution_count": 1,
   "metadata": {},
   "outputs": [],
   "source": [
    "import random\n",
    "n = 10"
   ]
  },
  {
   "cell_type": "markdown",
   "metadata": {},
   "source": [
    "### Construction classique d'une liste"
   ]
  },
  {
   "cell_type": "code",
   "execution_count": 2,
   "metadata": {},
   "outputs": [],
   "source": [
    "une_chaine_de_char = \"dlnlnfjvndfjnvkjdnvsndkq\"\n",
    "liste = []\n",
    "for _ in range(n):\n",
    "    caractere = random.choice(une_chaine_de_char)\n",
    "    liste.append(caractere)"
   ]
  },
  {
   "cell_type": "code",
   "execution_count": 3,
   "metadata": {},
   "outputs": [
    {
     "data": {
      "text/plain": [
       "['d', 'n', 'd', 'd', 'k', 'n', 'l', 'q', 'd', 'v']"
      ]
     },
     "execution_count": 3,
     "metadata": {},
     "output_type": "execute_result"
    }
   ],
   "source": [
    "liste"
   ]
  },
  {
   "cell_type": "markdown",
   "metadata": {},
   "source": [
    "### Construction moderne d'une liste via une compehension list"
   ]
  },
  {
   "cell_type": "code",
   "execution_count": 4,
   "metadata": {},
   "outputs": [
    {
     "data": {
      "text/plain": [
       "['d', 'n', 'd', 'n', 'd', 'q', 'n', 'n', 'f', 'q']"
      ]
     },
     "execution_count": 4,
     "metadata": {},
     "output_type": "execute_result"
    }
   ],
   "source": [
    "# [f(x) for x in sequence]\n",
    "liste2 = [random.choice(une_chaine_de_char) for _ in range(n)]\n",
    "liste2"
   ]
  },
  {
   "cell_type": "code",
   "execution_count": 5,
   "metadata": {},
   "outputs": [
    {
     "data": {
      "text/plain": [
       "['e', 'e', 'e', 'e', 'e', 'e', 'e', 'e', 'e', 'e']"
      ]
     },
     "execution_count": 5,
     "metadata": {},
     "output_type": "execute_result"
    }
   ],
   "source": [
    "liste2 = [\"e\" for _ in range(n)]\n",
    "liste2"
   ]
  },
  {
   "cell_type": "code",
   "execution_count": 6,
   "metadata": {},
   "outputs": [],
   "source": [
    "## multiplication de liste"
   ]
  },
  {
   "cell_type": "code",
   "execution_count": 7,
   "metadata": {},
   "outputs": [
    {
     "data": {
      "text/plain": [
       "['e', 'e', 'e', 'e', 'e', 'e', 'e', 'e', 'e', 'e']"
      ]
     },
     "execution_count": 7,
     "metadata": {},
     "output_type": "execute_result"
    }
   ],
   "source": [
    "liste3 = [\"e\"]*10\n",
    "liste3"
   ]
  },
  {
   "cell_type": "markdown",
   "metadata": {},
   "source": [
    "### Comprehension list conditionnelle : if only ==> le if est a la fin"
   ]
  },
  {
   "cell_type": "code",
   "execution_count": 8,
   "metadata": {},
   "outputs": [
    {
     "data": {
      "text/plain": [
       "[0, 2, 4, 6, 8]"
      ]
     },
     "execution_count": 8,
     "metadata": {},
     "output_type": "execute_result"
    }
   ],
   "source": [
    "liste4 = [_ for _ in range(n) if _%2 ==0]\n",
    "liste4"
   ]
  },
  {
   "cell_type": "markdown",
   "metadata": {},
   "source": [
    "## Comprehension list conditionelle : if else ==> le if est au milieur"
   ]
  },
  {
   "cell_type": "code",
   "execution_count": 9,
   "metadata": {},
   "outputs": [
    {
     "data": {
      "text/plain": [
       "[0, 'impair', 2, 'impair', 4, 'impair', 6, 'impair', 8, 'impair']"
      ]
     },
     "execution_count": 9,
     "metadata": {},
     "output_type": "execute_result"
    }
   ],
   "source": [
    "liste5 = [_ if _%2==0 else \"impair\" for _ in range(n)]\n",
    "liste5"
   ]
  },
  {
   "cell_type": "code",
   "execution_count": 10,
   "metadata": {},
   "outputs": [
    {
     "data": {
      "text/plain": [
       "[0, 'impair', 2, 'impair', 4, 'impair', 6, 'impair', 8, 'impair']"
      ]
     },
     "execution_count": 10,
     "metadata": {},
     "output_type": "execute_result"
    }
   ],
   "source": [
    "# Equivaut A\n",
    "\n",
    "liste6=[]\n",
    "def pairouimpair(x):\n",
    "    if x%2==0:\n",
    "        return x\n",
    "    else :\n",
    "        return \"impair\"\n",
    "for i in range(n):\n",
    "    liste6.append(pairouimpair(i))\n",
    "liste6"
   ]
  },
  {
   "cell_type": "code",
   "execution_count": 11,
   "metadata": {},
   "outputs": [
    {
     "data": {
      "text/plain": [
       "['pair', 1, 'pair', 3, 'pair', 5, 'pair', 7, 'pair', 9]"
      ]
     },
     "execution_count": 11,
     "metadata": {},
     "output_type": "execute_result"
    }
   ],
   "source": [
    "liste7 = [_ if _%2 else \"pair\" for _ in range(n)]\n",
    "liste7"
   ]
  },
  {
   "cell_type": "code",
   "execution_count": 12,
   "metadata": {},
   "outputs": [
    {
     "name": "stdout",
     "output_type": "stream",
     "text": [
      "0 est faux\n"
     ]
    }
   ],
   "source": [
    "if 0 :\n",
    "    print(\"0 est vrai\")\n",
    "else : \n",
    "    print(\"0 est faux\")"
   ]
  },
  {
   "cell_type": "code",
   "execution_count": 13,
   "metadata": {},
   "outputs": [
    {
     "name": "stdout",
     "output_type": "stream",
     "text": [
      "1 est vrai\n"
     ]
    }
   ],
   "source": [
    "if 1 :\n",
    "    print(\"1 est vrai\")\n",
    "else : \n",
    "    print(\"1 est faux\")"
   ]
  },
  {
   "cell_type": "markdown",
   "metadata": {},
   "source": [
    "## 1.2 lamba functions"
   ]
  },
  {
   "cell_type": "code",
   "execution_count": 14,
   "metadata": {},
   "outputs": [],
   "source": [
    "valeur = lambda param : param\n",
    "# valeur = lambda x:f(x)"
   ]
  },
  {
   "cell_type": "code",
   "execution_count": 15,
   "metadata": {},
   "outputs": [
    {
     "data": {
      "text/plain": [
       "'e'"
      ]
     },
     "execution_count": 15,
     "metadata": {},
     "output_type": "execute_result"
    }
   ],
   "source": [
    "valeur(\"e\")"
   ]
  },
  {
   "cell_type": "code",
   "execution_count": 16,
   "metadata": {},
   "outputs": [
    {
     "data": {
      "text/plain": [
       "'ee'"
      ]
     },
     "execution_count": 16,
     "metadata": {},
     "output_type": "execute_result"
    }
   ],
   "source": [
    "deux_fois = lambda param: param*2\n",
    "deux_fois(\"e\")"
   ]
  },
  {
   "cell_type": "code",
   "execution_count": 17,
   "metadata": {},
   "outputs": [
    {
     "data": {
      "text/plain": [
       "'ee'"
      ]
     },
     "execution_count": 17,
     "metadata": {},
     "output_type": "execute_result"
    }
   ],
   "source": [
    "# Equivaut à :\n",
    "def deux_fois(x):\n",
    "    return x*2\n",
    "deux_fois(\"e\")"
   ]
  },
  {
   "cell_type": "code",
   "execution_count": 18,
   "metadata": {},
   "outputs": [
    {
     "data": {
      "text/plain": [
       "['e', 'e']"
      ]
     },
     "execution_count": 18,
     "metadata": {},
     "output_type": "execute_result"
    }
   ],
   "source": [
    "deux_fois([\"e\"])"
   ]
  },
  {
   "cell_type": "code",
   "execution_count": 19,
   "metadata": {},
   "outputs": [
    {
     "data": {
      "text/plain": [
       "['e', 'e', 'e', 'e']"
      ]
     },
     "execution_count": 19,
     "metadata": {},
     "output_type": "execute_result"
    }
   ],
   "source": [
    "deux_fois(deux_fois([\"e\"]))"
   ]
  },
  {
   "cell_type": "code",
   "execution_count": 20,
   "metadata": {},
   "outputs": [
    {
     "data": {
      "text/plain": [
       "['1', '2', '1', '2']"
      ]
     },
     "execution_count": 20,
     "metadata": {},
     "output_type": "execute_result"
    }
   ],
   "source": [
    "deux_fois([\"1\", \"2\"])"
   ]
  },
  {
   "cell_type": "code",
   "execution_count": 21,
   "metadata": {},
   "outputs": [
    {
     "data": {
      "text/plain": [
       "[0, 2, 4, 6, 8, 10, 12, 14, 16, 18]"
      ]
     },
     "execution_count": 21,
     "metadata": {},
     "output_type": "execute_result"
    }
   ],
   "source": [
    "# Lambda without parameter + list comprehension\n",
    "zero_dixhuit = [deux_fois(_) for _ in range(n)]\n",
    "zero_dixhuit"
   ]
  },
  {
   "cell_type": "markdown",
   "metadata": {},
   "source": [
    "## 1.3 transmitting abitrary named parameters to a function"
   ]
  },
  {
   "cell_type": "code",
   "execution_count": 22,
   "metadata": {},
   "outputs": [
    {
     "data": {
      "text/html": [
       "<div>\n",
       "<style scoped>\n",
       "    .dataframe tbody tr th:only-of-type {\n",
       "        vertical-align: middle;\n",
       "    }\n",
       "\n",
       "    .dataframe tbody tr th {\n",
       "        vertical-align: top;\n",
       "    }\n",
       "\n",
       "    .dataframe thead th {\n",
       "        text-align: right;\n",
       "    }\n",
       "</style>\n",
       "<table border=\"1\" class=\"dataframe\">\n",
       "  <thead>\n",
       "    <tr style=\"text-align: right;\">\n",
       "      <th></th>\n",
       "      <th>eleve</th>\n",
       "      <th>note</th>\n",
       "    </tr>\n",
       "  </thead>\n",
       "  <tbody>\n",
       "    <tr>\n",
       "      <th>0</th>\n",
       "      <td>Hugh</td>\n",
       "      <td>5</td>\n",
       "    </tr>\n",
       "    <tr>\n",
       "      <th>1</th>\n",
       "      <td>Serge</td>\n",
       "      <td>5</td>\n",
       "    </tr>\n",
       "    <tr>\n",
       "      <th>2</th>\n",
       "      <td>Stella</td>\n",
       "      <td>2</td>\n",
       "    </tr>\n",
       "    <tr>\n",
       "      <th>3</th>\n",
       "      <td>Serge</td>\n",
       "      <td>3</td>\n",
       "    </tr>\n",
       "    <tr>\n",
       "      <th>4</th>\n",
       "      <td>Serge</td>\n",
       "      <td>15</td>\n",
       "    </tr>\n",
       "    <tr>\n",
       "      <th>5</th>\n",
       "      <td>William</td>\n",
       "      <td>18</td>\n",
       "    </tr>\n",
       "    <tr>\n",
       "      <th>6</th>\n",
       "      <td>Hugh</td>\n",
       "      <td>17</td>\n",
       "    </tr>\n",
       "    <tr>\n",
       "      <th>7</th>\n",
       "      <td>Hugh</td>\n",
       "      <td>17</td>\n",
       "    </tr>\n",
       "    <tr>\n",
       "      <th>8</th>\n",
       "      <td>William</td>\n",
       "      <td>7</td>\n",
       "    </tr>\n",
       "    <tr>\n",
       "      <th>9</th>\n",
       "      <td>Serge</td>\n",
       "      <td>16</td>\n",
       "    </tr>\n",
       "    <tr>\n",
       "      <th>10</th>\n",
       "      <td>Serge</td>\n",
       "      <td>15</td>\n",
       "    </tr>\n",
       "    <tr>\n",
       "      <th>11</th>\n",
       "      <td>Stella</td>\n",
       "      <td>13</td>\n",
       "    </tr>\n",
       "    <tr>\n",
       "      <th>12</th>\n",
       "      <td>Kimiko</td>\n",
       "      <td>3</td>\n",
       "    </tr>\n",
       "    <tr>\n",
       "      <th>13</th>\n",
       "      <td>William</td>\n",
       "      <td>3</td>\n",
       "    </tr>\n",
       "    <tr>\n",
       "      <th>14</th>\n",
       "      <td>Stella</td>\n",
       "      <td>7</td>\n",
       "    </tr>\n",
       "    <tr>\n",
       "      <th>15</th>\n",
       "      <td>Kimiko</td>\n",
       "      <td>17</td>\n",
       "    </tr>\n",
       "    <tr>\n",
       "      <th>16</th>\n",
       "      <td>Hugh</td>\n",
       "      <td>3</td>\n",
       "    </tr>\n",
       "    <tr>\n",
       "      <th>17</th>\n",
       "      <td>Hugh</td>\n",
       "      <td>20</td>\n",
       "    </tr>\n",
       "    <tr>\n",
       "      <th>18</th>\n",
       "      <td>Stella</td>\n",
       "      <td>6</td>\n",
       "    </tr>\n",
       "    <tr>\n",
       "      <th>19</th>\n",
       "      <td>Marvin</td>\n",
       "      <td>13</td>\n",
       "    </tr>\n",
       "    <tr>\n",
       "      <th>20</th>\n",
       "      <td>Hugh</td>\n",
       "      <td>1</td>\n",
       "    </tr>\n",
       "    <tr>\n",
       "      <th>21</th>\n",
       "      <td>Marvin</td>\n",
       "      <td>4</td>\n",
       "    </tr>\n",
       "    <tr>\n",
       "      <th>22</th>\n",
       "      <td>Kimiko</td>\n",
       "      <td>18</td>\n",
       "    </tr>\n",
       "    <tr>\n",
       "      <th>23</th>\n",
       "      <td>Stella</td>\n",
       "      <td>5</td>\n",
       "    </tr>\n",
       "    <tr>\n",
       "      <th>24</th>\n",
       "      <td>Stella</td>\n",
       "      <td>5</td>\n",
       "    </tr>\n",
       "    <tr>\n",
       "      <th>25</th>\n",
       "      <td>Marvin</td>\n",
       "      <td>19</td>\n",
       "    </tr>\n",
       "    <tr>\n",
       "      <th>26</th>\n",
       "      <td>Kimiko</td>\n",
       "      <td>8</td>\n",
       "    </tr>\n",
       "    <tr>\n",
       "      <th>27</th>\n",
       "      <td>Stella</td>\n",
       "      <td>18</td>\n",
       "    </tr>\n",
       "    <tr>\n",
       "      <th>28</th>\n",
       "      <td>William</td>\n",
       "      <td>11</td>\n",
       "    </tr>\n",
       "    <tr>\n",
       "      <th>29</th>\n",
       "      <td>Serge</td>\n",
       "      <td>6</td>\n",
       "    </tr>\n",
       "    <tr>\n",
       "      <th>30</th>\n",
       "      <td>Stella</td>\n",
       "      <td>15</td>\n",
       "    </tr>\n",
       "    <tr>\n",
       "      <th>31</th>\n",
       "      <td>Kimiko</td>\n",
       "      <td>7</td>\n",
       "    </tr>\n",
       "    <tr>\n",
       "      <th>32</th>\n",
       "      <td>Marvin</td>\n",
       "      <td>13</td>\n",
       "    </tr>\n",
       "    <tr>\n",
       "      <th>33</th>\n",
       "      <td>Stella</td>\n",
       "      <td>6</td>\n",
       "    </tr>\n",
       "    <tr>\n",
       "      <th>34</th>\n",
       "      <td>William</td>\n",
       "      <td>20</td>\n",
       "    </tr>\n",
       "    <tr>\n",
       "      <th>35</th>\n",
       "      <td>William</td>\n",
       "      <td>10</td>\n",
       "    </tr>\n",
       "    <tr>\n",
       "      <th>36</th>\n",
       "      <td>Stella</td>\n",
       "      <td>18</td>\n",
       "    </tr>\n",
       "    <tr>\n",
       "      <th>37</th>\n",
       "      <td>Marvin</td>\n",
       "      <td>6</td>\n",
       "    </tr>\n",
       "    <tr>\n",
       "      <th>38</th>\n",
       "      <td>Marvin</td>\n",
       "      <td>3</td>\n",
       "    </tr>\n",
       "    <tr>\n",
       "      <th>39</th>\n",
       "      <td>Kimiko</td>\n",
       "      <td>16</td>\n",
       "    </tr>\n",
       "    <tr>\n",
       "      <th>40</th>\n",
       "      <td>Marvin</td>\n",
       "      <td>20</td>\n",
       "    </tr>\n",
       "    <tr>\n",
       "      <th>41</th>\n",
       "      <td>Kimiko</td>\n",
       "      <td>1</td>\n",
       "    </tr>\n",
       "    <tr>\n",
       "      <th>42</th>\n",
       "      <td>Kimiko</td>\n",
       "      <td>7</td>\n",
       "    </tr>\n",
       "    <tr>\n",
       "      <th>43</th>\n",
       "      <td>Hugh</td>\n",
       "      <td>6</td>\n",
       "    </tr>\n",
       "    <tr>\n",
       "      <th>44</th>\n",
       "      <td>Serge</td>\n",
       "      <td>12</td>\n",
       "    </tr>\n",
       "    <tr>\n",
       "      <th>45</th>\n",
       "      <td>Hugh</td>\n",
       "      <td>8</td>\n",
       "    </tr>\n",
       "    <tr>\n",
       "      <th>46</th>\n",
       "      <td>Stella</td>\n",
       "      <td>18</td>\n",
       "    </tr>\n",
       "    <tr>\n",
       "      <th>47</th>\n",
       "      <td>Marvin</td>\n",
       "      <td>13</td>\n",
       "    </tr>\n",
       "    <tr>\n",
       "      <th>48</th>\n",
       "      <td>Kimiko</td>\n",
       "      <td>20</td>\n",
       "    </tr>\n",
       "    <tr>\n",
       "      <th>49</th>\n",
       "      <td>Stella</td>\n",
       "      <td>4</td>\n",
       "    </tr>\n",
       "    <tr>\n",
       "      <th>50</th>\n",
       "      <td>Kimiko</td>\n",
       "      <td>6</td>\n",
       "    </tr>\n",
       "    <tr>\n",
       "      <th>51</th>\n",
       "      <td>William</td>\n",
       "      <td>12</td>\n",
       "    </tr>\n",
       "    <tr>\n",
       "      <th>52</th>\n",
       "      <td>Kimiko</td>\n",
       "      <td>12</td>\n",
       "    </tr>\n",
       "    <tr>\n",
       "      <th>53</th>\n",
       "      <td>Stella</td>\n",
       "      <td>1</td>\n",
       "    </tr>\n",
       "    <tr>\n",
       "      <th>54</th>\n",
       "      <td>Marvin</td>\n",
       "      <td>6</td>\n",
       "    </tr>\n",
       "    <tr>\n",
       "      <th>55</th>\n",
       "      <td>Kimiko</td>\n",
       "      <td>15</td>\n",
       "    </tr>\n",
       "    <tr>\n",
       "      <th>56</th>\n",
       "      <td>Hugh</td>\n",
       "      <td>4</td>\n",
       "    </tr>\n",
       "    <tr>\n",
       "      <th>57</th>\n",
       "      <td>Marvin</td>\n",
       "      <td>12</td>\n",
       "    </tr>\n",
       "    <tr>\n",
       "      <th>58</th>\n",
       "      <td>Stella</td>\n",
       "      <td>15</td>\n",
       "    </tr>\n",
       "    <tr>\n",
       "      <th>59</th>\n",
       "      <td>Kimiko</td>\n",
       "      <td>13</td>\n",
       "    </tr>\n",
       "  </tbody>\n",
       "</table>\n",
       "</div>"
      ],
      "text/plain": [
       "      eleve  note\n",
       "0      Hugh     5\n",
       "1     Serge     5\n",
       "2    Stella     2\n",
       "3     Serge     3\n",
       "4     Serge    15\n",
       "5   William    18\n",
       "6      Hugh    17\n",
       "7      Hugh    17\n",
       "8   William     7\n",
       "9     Serge    16\n",
       "10    Serge    15\n",
       "11   Stella    13\n",
       "12   Kimiko     3\n",
       "13  William     3\n",
       "14   Stella     7\n",
       "15   Kimiko    17\n",
       "16     Hugh     3\n",
       "17     Hugh    20\n",
       "18   Stella     6\n",
       "19   Marvin    13\n",
       "20     Hugh     1\n",
       "21   Marvin     4\n",
       "22   Kimiko    18\n",
       "23   Stella     5\n",
       "24   Stella     5\n",
       "25   Marvin    19\n",
       "26   Kimiko     8\n",
       "27   Stella    18\n",
       "28  William    11\n",
       "29    Serge     6\n",
       "30   Stella    15\n",
       "31   Kimiko     7\n",
       "32   Marvin    13\n",
       "33   Stella     6\n",
       "34  William    20\n",
       "35  William    10\n",
       "36   Stella    18\n",
       "37   Marvin     6\n",
       "38   Marvin     3\n",
       "39   Kimiko    16\n",
       "40   Marvin    20\n",
       "41   Kimiko     1\n",
       "42   Kimiko     7\n",
       "43     Hugh     6\n",
       "44    Serge    12\n",
       "45     Hugh     8\n",
       "46   Stella    18\n",
       "47   Marvin    13\n",
       "48   Kimiko    20\n",
       "49   Stella     4\n",
       "50   Kimiko     6\n",
       "51  William    12\n",
       "52   Kimiko    12\n",
       "53   Stella     1\n",
       "54   Marvin     6\n",
       "55   Kimiko    15\n",
       "56     Hugh     4\n",
       "57   Marvin    12\n",
       "58   Stella    15\n",
       "59   Kimiko    13"
      ]
     },
     "execution_count": 22,
     "metadata": {},
     "output_type": "execute_result"
    }
   ],
   "source": [
    "# First let's create a random dataframe\n",
    "\n",
    "import random\n",
    "import pandas as pd\n",
    "eleves = ['William', 'Hugh', 'Marvin', 'Stella', 'Serge', 'Kimiko']\n",
    "\n",
    "# LISTE Comprehension\n",
    "liste_eleves = [random.choice(eleves) for _ in range(60)]\n",
    "\n",
    "#EQUIVALENT TO \n",
    "# liste_eleves=[]\n",
    "# for _ in range(60):\n",
    "#     liste_eleves.append(random.choice(eleves))\n",
    "#\n",
    "\n",
    "def note():\n",
    "    return(random.randint(1,20))\n",
    "notes = [note() for _ in range(60)]\n",
    "\n",
    "eleves_notes = pd.DataFrame()\n",
    "eleves_notes['eleve']=liste_eleves\n",
    "eleves_notes['note']=notes\n",
    "eleves_notes"
   ]
  },
  {
   "cell_type": "markdown",
   "metadata": {},
   "source": [
    "### transmittion rank as parameter when using pandas groupby apply()"
   ]
  },
  {
   "cell_type": "code",
   "execution_count": 23,
   "metadata": {},
   "outputs": [
    {
     "data": {
      "text/html": [
       "<div>\n",
       "<style scoped>\n",
       "    .dataframe tbody tr th:only-of-type {\n",
       "        vertical-align: middle;\n",
       "    }\n",
       "\n",
       "    .dataframe tbody tr th {\n",
       "        vertical-align: top;\n",
       "    }\n",
       "\n",
       "    .dataframe thead th {\n",
       "        text-align: right;\n",
       "    }\n",
       "</style>\n",
       "<table border=\"1\" class=\"dataframe\">\n",
       "  <thead>\n",
       "    <tr style=\"text-align: right;\">\n",
       "      <th></th>\n",
       "      <th></th>\n",
       "      <th>eleve</th>\n",
       "      <th>note</th>\n",
       "    </tr>\n",
       "    <tr>\n",
       "      <th>eleve</th>\n",
       "      <th></th>\n",
       "      <th></th>\n",
       "      <th></th>\n",
       "    </tr>\n",
       "  </thead>\n",
       "  <tbody>\n",
       "    <tr>\n",
       "      <th rowspan=\"5\" valign=\"top\">Hugh</th>\n",
       "      <th>43</th>\n",
       "      <td>Hugh</td>\n",
       "      <td>6</td>\n",
       "    </tr>\n",
       "    <tr>\n",
       "      <th>45</th>\n",
       "      <td>Hugh</td>\n",
       "      <td>8</td>\n",
       "    </tr>\n",
       "    <tr>\n",
       "      <th>6</th>\n",
       "      <td>Hugh</td>\n",
       "      <td>17</td>\n",
       "    </tr>\n",
       "    <tr>\n",
       "      <th>7</th>\n",
       "      <td>Hugh</td>\n",
       "      <td>17</td>\n",
       "    </tr>\n",
       "    <tr>\n",
       "      <th>17</th>\n",
       "      <td>Hugh</td>\n",
       "      <td>20</td>\n",
       "    </tr>\n",
       "    <tr>\n",
       "      <th rowspan=\"5\" valign=\"top\">Kimiko</th>\n",
       "      <th>55</th>\n",
       "      <td>Kimiko</td>\n",
       "      <td>15</td>\n",
       "    </tr>\n",
       "    <tr>\n",
       "      <th>39</th>\n",
       "      <td>Kimiko</td>\n",
       "      <td>16</td>\n",
       "    </tr>\n",
       "    <tr>\n",
       "      <th>15</th>\n",
       "      <td>Kimiko</td>\n",
       "      <td>17</td>\n",
       "    </tr>\n",
       "    <tr>\n",
       "      <th>22</th>\n",
       "      <td>Kimiko</td>\n",
       "      <td>18</td>\n",
       "    </tr>\n",
       "    <tr>\n",
       "      <th>48</th>\n",
       "      <td>Kimiko</td>\n",
       "      <td>20</td>\n",
       "    </tr>\n",
       "    <tr>\n",
       "      <th rowspan=\"5\" valign=\"top\">Marvin</th>\n",
       "      <th>19</th>\n",
       "      <td>Marvin</td>\n",
       "      <td>13</td>\n",
       "    </tr>\n",
       "    <tr>\n",
       "      <th>32</th>\n",
       "      <td>Marvin</td>\n",
       "      <td>13</td>\n",
       "    </tr>\n",
       "    <tr>\n",
       "      <th>47</th>\n",
       "      <td>Marvin</td>\n",
       "      <td>13</td>\n",
       "    </tr>\n",
       "    <tr>\n",
       "      <th>25</th>\n",
       "      <td>Marvin</td>\n",
       "      <td>19</td>\n",
       "    </tr>\n",
       "    <tr>\n",
       "      <th>40</th>\n",
       "      <td>Marvin</td>\n",
       "      <td>20</td>\n",
       "    </tr>\n",
       "    <tr>\n",
       "      <th rowspan=\"5\" valign=\"top\">Serge</th>\n",
       "      <th>29</th>\n",
       "      <td>Serge</td>\n",
       "      <td>6</td>\n",
       "    </tr>\n",
       "    <tr>\n",
       "      <th>44</th>\n",
       "      <td>Serge</td>\n",
       "      <td>12</td>\n",
       "    </tr>\n",
       "    <tr>\n",
       "      <th>4</th>\n",
       "      <td>Serge</td>\n",
       "      <td>15</td>\n",
       "    </tr>\n",
       "    <tr>\n",
       "      <th>10</th>\n",
       "      <td>Serge</td>\n",
       "      <td>15</td>\n",
       "    </tr>\n",
       "    <tr>\n",
       "      <th>9</th>\n",
       "      <td>Serge</td>\n",
       "      <td>16</td>\n",
       "    </tr>\n",
       "    <tr>\n",
       "      <th rowspan=\"5\" valign=\"top\">Stella</th>\n",
       "      <th>30</th>\n",
       "      <td>Stella</td>\n",
       "      <td>15</td>\n",
       "    </tr>\n",
       "    <tr>\n",
       "      <th>58</th>\n",
       "      <td>Stella</td>\n",
       "      <td>15</td>\n",
       "    </tr>\n",
       "    <tr>\n",
       "      <th>27</th>\n",
       "      <td>Stella</td>\n",
       "      <td>18</td>\n",
       "    </tr>\n",
       "    <tr>\n",
       "      <th>36</th>\n",
       "      <td>Stella</td>\n",
       "      <td>18</td>\n",
       "    </tr>\n",
       "    <tr>\n",
       "      <th>46</th>\n",
       "      <td>Stella</td>\n",
       "      <td>18</td>\n",
       "    </tr>\n",
       "    <tr>\n",
       "      <th rowspan=\"5\" valign=\"top\">William</th>\n",
       "      <th>35</th>\n",
       "      <td>William</td>\n",
       "      <td>10</td>\n",
       "    </tr>\n",
       "    <tr>\n",
       "      <th>28</th>\n",
       "      <td>William</td>\n",
       "      <td>11</td>\n",
       "    </tr>\n",
       "    <tr>\n",
       "      <th>51</th>\n",
       "      <td>William</td>\n",
       "      <td>12</td>\n",
       "    </tr>\n",
       "    <tr>\n",
       "      <th>5</th>\n",
       "      <td>William</td>\n",
       "      <td>18</td>\n",
       "    </tr>\n",
       "    <tr>\n",
       "      <th>34</th>\n",
       "      <td>William</td>\n",
       "      <td>20</td>\n",
       "    </tr>\n",
       "  </tbody>\n",
       "</table>\n",
       "</div>"
      ],
      "text/plain": [
       "              eleve  note\n",
       "eleve                    \n",
       "Hugh    43     Hugh     6\n",
       "        45     Hugh     8\n",
       "        6      Hugh    17\n",
       "        7      Hugh    17\n",
       "        17     Hugh    20\n",
       "Kimiko  55   Kimiko    15\n",
       "        39   Kimiko    16\n",
       "        15   Kimiko    17\n",
       "        22   Kimiko    18\n",
       "        48   Kimiko    20\n",
       "Marvin  19   Marvin    13\n",
       "        32   Marvin    13\n",
       "        47   Marvin    13\n",
       "        25   Marvin    19\n",
       "        40   Marvin    20\n",
       "Serge   29    Serge     6\n",
       "        44    Serge    12\n",
       "        4     Serge    15\n",
       "        10    Serge    15\n",
       "        9     Serge    16\n",
       "Stella  30   Stella    15\n",
       "        58   Stella    15\n",
       "        27   Stella    18\n",
       "        36   Stella    18\n",
       "        46   Stella    18\n",
       "William 35  William    10\n",
       "        28  William    11\n",
       "        51  William    12\n",
       "        5   William    18\n",
       "        34  William    20"
      ]
     },
     "execution_count": 23,
     "metadata": {},
     "output_type": "execute_result"
    }
   ],
   "source": [
    "#Las time, to keep only 5 most populat firstnames in each year/sex group we did :\n",
    "def get_top5(df):\n",
    "    return df.sort_values(by=\"note\")[-5:]\n",
    "#but rank here is static, it cannot be transmitted during the function call\n",
    "eleves_notes.groupby(['eleve']).apply(get_top5)"
   ]
  },
  {
   "cell_type": "raw",
   "metadata": {},
   "source": [
    "Now say we want to transmit the rank as a parameter. Here is Padas Apply functon definition from the doc :\n",
    "\n",
    "DataFrame.apply(func, axis=0, rax=False, result_type=None, args(), **kwds)\n",
    "\n",
    "**kwds mean that we can add..."
   ]
  },
  {
   "cell_type": "code",
   "execution_count": 24,
   "metadata": {},
   "outputs": [
    {
     "data": {
      "text/plain": [
       "5.0"
      ]
     },
     "execution_count": 24,
     "metadata": {},
     "output_type": "execute_result"
    }
   ],
   "source": [
    "#Define a function\n",
    "def asurb(a,b):\n",
    "    return a/b\n",
    "# Calling a function with ordered parameters\n",
    "asurb(10,2)"
   ]
  },
  {
   "cell_type": "code",
   "execution_count": 25,
   "metadata": {},
   "outputs": [
    {
     "data": {
      "text/plain": [
       "2.0"
      ]
     },
     "execution_count": 25,
     "metadata": {},
     "output_type": "execute_result"
    }
   ],
   "source": [
    "# Calling a function withe named parameter\n",
    "asurb(b=10, a=20)"
   ]
  },
  {
   "cell_type": "code",
   "execution_count": 26,
   "metadata": {},
   "outputs": [],
   "source": [
    "# define a finction and default values\n",
    "def asurb(a=10, b=5):\n",
    "    return a/b"
   ]
  },
  {
   "cell_type": "code",
   "execution_count": 27,
   "metadata": {},
   "outputs": [
    {
     "data": {
      "text/plain": [
       "1.0"
      ]
     },
     "execution_count": 27,
     "metadata": {},
     "output_type": "execute_result"
    }
   ],
   "source": [
    "asurb(b=10)"
   ]
  },
  {
   "cell_type": "code",
   "execution_count": 28,
   "metadata": {},
   "outputs": [
    {
     "data": {
      "text/plain": [
       "2.0"
      ]
     },
     "execution_count": 28,
     "metadata": {},
     "output_type": "execute_result"
    }
   ],
   "source": [
    "asurb()"
   ]
  },
  {
   "cell_type": "code",
   "execution_count": 29,
   "metadata": {},
   "outputs": [
    {
     "data": {
      "text/html": [
       "<div>\n",
       "<style scoped>\n",
       "    .dataframe tbody tr th:only-of-type {\n",
       "        vertical-align: middle;\n",
       "    }\n",
       "\n",
       "    .dataframe tbody tr th {\n",
       "        vertical-align: top;\n",
       "    }\n",
       "\n",
       "    .dataframe thead th {\n",
       "        text-align: right;\n",
       "    }\n",
       "</style>\n",
       "<table border=\"1\" class=\"dataframe\">\n",
       "  <thead>\n",
       "    <tr style=\"text-align: right;\">\n",
       "      <th></th>\n",
       "      <th></th>\n",
       "      <th>eleve</th>\n",
       "      <th>note</th>\n",
       "    </tr>\n",
       "    <tr>\n",
       "      <th>eleve</th>\n",
       "      <th></th>\n",
       "      <th></th>\n",
       "      <th></th>\n",
       "    </tr>\n",
       "  </thead>\n",
       "  <tbody>\n",
       "    <tr>\n",
       "      <th rowspan=\"2\" valign=\"top\">Hugh</th>\n",
       "      <th>7</th>\n",
       "      <td>Hugh</td>\n",
       "      <td>17</td>\n",
       "    </tr>\n",
       "    <tr>\n",
       "      <th>17</th>\n",
       "      <td>Hugh</td>\n",
       "      <td>20</td>\n",
       "    </tr>\n",
       "    <tr>\n",
       "      <th rowspan=\"2\" valign=\"top\">Kimiko</th>\n",
       "      <th>22</th>\n",
       "      <td>Kimiko</td>\n",
       "      <td>18</td>\n",
       "    </tr>\n",
       "    <tr>\n",
       "      <th>48</th>\n",
       "      <td>Kimiko</td>\n",
       "      <td>20</td>\n",
       "    </tr>\n",
       "    <tr>\n",
       "      <th rowspan=\"2\" valign=\"top\">Marvin</th>\n",
       "      <th>25</th>\n",
       "      <td>Marvin</td>\n",
       "      <td>19</td>\n",
       "    </tr>\n",
       "    <tr>\n",
       "      <th>40</th>\n",
       "      <td>Marvin</td>\n",
       "      <td>20</td>\n",
       "    </tr>\n",
       "    <tr>\n",
       "      <th rowspan=\"2\" valign=\"top\">Serge</th>\n",
       "      <th>10</th>\n",
       "      <td>Serge</td>\n",
       "      <td>15</td>\n",
       "    </tr>\n",
       "    <tr>\n",
       "      <th>9</th>\n",
       "      <td>Serge</td>\n",
       "      <td>16</td>\n",
       "    </tr>\n",
       "    <tr>\n",
       "      <th rowspan=\"2\" valign=\"top\">Stella</th>\n",
       "      <th>36</th>\n",
       "      <td>Stella</td>\n",
       "      <td>18</td>\n",
       "    </tr>\n",
       "    <tr>\n",
       "      <th>46</th>\n",
       "      <td>Stella</td>\n",
       "      <td>18</td>\n",
       "    </tr>\n",
       "    <tr>\n",
       "      <th rowspan=\"2\" valign=\"top\">William</th>\n",
       "      <th>5</th>\n",
       "      <td>William</td>\n",
       "      <td>18</td>\n",
       "    </tr>\n",
       "    <tr>\n",
       "      <th>34</th>\n",
       "      <td>William</td>\n",
       "      <td>20</td>\n",
       "    </tr>\n",
       "  </tbody>\n",
       "</table>\n",
       "</div>"
      ],
      "text/plain": [
       "              eleve  note\n",
       "eleve                    \n",
       "Hugh    7      Hugh    17\n",
       "        17     Hugh    20\n",
       "Kimiko  22   Kimiko    18\n",
       "        48   Kimiko    20\n",
       "Marvin  25   Marvin    19\n",
       "        40   Marvin    20\n",
       "Serge   10    Serge    15\n",
       "        9     Serge    16\n",
       "Stella  36   Stella    18\n",
       "        46   Stella    18\n",
       "William 5   William    18\n",
       "        34  William    20"
      ]
     },
     "execution_count": 29,
     "metadata": {},
     "output_type": "execute_result"
    }
   ],
   "source": [
    "# During les tp, a student proposed :\n",
    "# **kwags will create a dict with all the named parameters\n",
    "def get_top(df, **kwags):\n",
    "    return df.sort_values(by=\"note\")[-kwags['top']:]\n",
    "\n",
    "eleves_notes.groupby(['eleve']).apply(get_top,top=2)"
   ]
  },
  {
   "cell_type": "code",
   "execution_count": 30,
   "metadata": {},
   "outputs": [
    {
     "data": {
      "text/html": [
       "<div>\n",
       "<style scoped>\n",
       "    .dataframe tbody tr th:only-of-type {\n",
       "        vertical-align: middle;\n",
       "    }\n",
       "\n",
       "    .dataframe tbody tr th {\n",
       "        vertical-align: top;\n",
       "    }\n",
       "\n",
       "    .dataframe thead th {\n",
       "        text-align: right;\n",
       "    }\n",
       "</style>\n",
       "<table border=\"1\" class=\"dataframe\">\n",
       "  <thead>\n",
       "    <tr style=\"text-align: right;\">\n",
       "      <th></th>\n",
       "      <th></th>\n",
       "      <th>eleve</th>\n",
       "      <th>note</th>\n",
       "    </tr>\n",
       "    <tr>\n",
       "      <th>eleve</th>\n",
       "      <th></th>\n",
       "      <th></th>\n",
       "      <th></th>\n",
       "    </tr>\n",
       "  </thead>\n",
       "  <tbody>\n",
       "    <tr>\n",
       "      <th rowspan=\"2\" valign=\"top\">Hugh</th>\n",
       "      <th>7</th>\n",
       "      <td>Hugh</td>\n",
       "      <td>17</td>\n",
       "    </tr>\n",
       "    <tr>\n",
       "      <th>17</th>\n",
       "      <td>Hugh</td>\n",
       "      <td>20</td>\n",
       "    </tr>\n",
       "    <tr>\n",
       "      <th rowspan=\"2\" valign=\"top\">Kimiko</th>\n",
       "      <th>22</th>\n",
       "      <td>Kimiko</td>\n",
       "      <td>18</td>\n",
       "    </tr>\n",
       "    <tr>\n",
       "      <th>48</th>\n",
       "      <td>Kimiko</td>\n",
       "      <td>20</td>\n",
       "    </tr>\n",
       "    <tr>\n",
       "      <th rowspan=\"2\" valign=\"top\">Marvin</th>\n",
       "      <th>25</th>\n",
       "      <td>Marvin</td>\n",
       "      <td>19</td>\n",
       "    </tr>\n",
       "    <tr>\n",
       "      <th>40</th>\n",
       "      <td>Marvin</td>\n",
       "      <td>20</td>\n",
       "    </tr>\n",
       "    <tr>\n",
       "      <th rowspan=\"2\" valign=\"top\">Serge</th>\n",
       "      <th>10</th>\n",
       "      <td>Serge</td>\n",
       "      <td>15</td>\n",
       "    </tr>\n",
       "    <tr>\n",
       "      <th>9</th>\n",
       "      <td>Serge</td>\n",
       "      <td>16</td>\n",
       "    </tr>\n",
       "    <tr>\n",
       "      <th rowspan=\"2\" valign=\"top\">Stella</th>\n",
       "      <th>36</th>\n",
       "      <td>Stella</td>\n",
       "      <td>18</td>\n",
       "    </tr>\n",
       "    <tr>\n",
       "      <th>46</th>\n",
       "      <td>Stella</td>\n",
       "      <td>18</td>\n",
       "    </tr>\n",
       "    <tr>\n",
       "      <th rowspan=\"2\" valign=\"top\">William</th>\n",
       "      <th>5</th>\n",
       "      <td>William</td>\n",
       "      <td>18</td>\n",
       "    </tr>\n",
       "    <tr>\n",
       "      <th>34</th>\n",
       "      <td>William</td>\n",
       "      <td>20</td>\n",
       "    </tr>\n",
       "  </tbody>\n",
       "</table>\n",
       "</div>"
      ],
      "text/plain": [
       "              eleve  note\n",
       "eleve                    \n",
       "Hugh    7      Hugh    17\n",
       "        17     Hugh    20\n",
       "Kimiko  22   Kimiko    18\n",
       "        48   Kimiko    20\n",
       "Marvin  25   Marvin    19\n",
       "        40   Marvin    20\n",
       "Serge   10    Serge    15\n",
       "        9     Serge    16\n",
       "Stella  36   Stella    18\n",
       "        46   Stella    18\n",
       "William 5   William    18\n",
       "        34  William    20"
      ]
     },
     "execution_count": 30,
     "metadata": {},
     "output_type": "execute_result"
    }
   ],
   "source": [
    "# please note that kwags name is not mandatory\n",
    "# the only mandatory element is the double* (splats) for \"packing\"\n",
    "# Here we add the sort column name as a parameter\n",
    "\n",
    "def get_top(df,**dicname):\n",
    "    return df.sort_values(by=dicname['sort'])[-dicname['top']:]\n",
    "\n",
    "\n",
    "eleves_notes.groupby(['eleve']).apply(get_top,sort=\"note\",top=2)"
   ]
  },
  {
   "cell_type": "code",
   "execution_count": 31,
   "metadata": {},
   "outputs": [
    {
     "data": {
      "text/html": [
       "<div>\n",
       "<style scoped>\n",
       "    .dataframe tbody tr th:only-of-type {\n",
       "        vertical-align: middle;\n",
       "    }\n",
       "\n",
       "    .dataframe tbody tr th {\n",
       "        vertical-align: top;\n",
       "    }\n",
       "\n",
       "    .dataframe thead th {\n",
       "        text-align: right;\n",
       "    }\n",
       "</style>\n",
       "<table border=\"1\" class=\"dataframe\">\n",
       "  <thead>\n",
       "    <tr style=\"text-align: right;\">\n",
       "      <th></th>\n",
       "      <th></th>\n",
       "      <th>eleve</th>\n",
       "      <th>note</th>\n",
       "    </tr>\n",
       "    <tr>\n",
       "      <th>eleve</th>\n",
       "      <th></th>\n",
       "      <th></th>\n",
       "      <th></th>\n",
       "    </tr>\n",
       "  </thead>\n",
       "  <tbody>\n",
       "    <tr>\n",
       "      <th rowspan=\"2\" valign=\"top\">Hugh</th>\n",
       "      <th>7</th>\n",
       "      <td>Hugh</td>\n",
       "      <td>17</td>\n",
       "    </tr>\n",
       "    <tr>\n",
       "      <th>17</th>\n",
       "      <td>Hugh</td>\n",
       "      <td>20</td>\n",
       "    </tr>\n",
       "    <tr>\n",
       "      <th rowspan=\"2\" valign=\"top\">Kimiko</th>\n",
       "      <th>22</th>\n",
       "      <td>Kimiko</td>\n",
       "      <td>18</td>\n",
       "    </tr>\n",
       "    <tr>\n",
       "      <th>48</th>\n",
       "      <td>Kimiko</td>\n",
       "      <td>20</td>\n",
       "    </tr>\n",
       "    <tr>\n",
       "      <th rowspan=\"2\" valign=\"top\">Marvin</th>\n",
       "      <th>25</th>\n",
       "      <td>Marvin</td>\n",
       "      <td>19</td>\n",
       "    </tr>\n",
       "    <tr>\n",
       "      <th>40</th>\n",
       "      <td>Marvin</td>\n",
       "      <td>20</td>\n",
       "    </tr>\n",
       "    <tr>\n",
       "      <th rowspan=\"2\" valign=\"top\">Serge</th>\n",
       "      <th>10</th>\n",
       "      <td>Serge</td>\n",
       "      <td>15</td>\n",
       "    </tr>\n",
       "    <tr>\n",
       "      <th>9</th>\n",
       "      <td>Serge</td>\n",
       "      <td>16</td>\n",
       "    </tr>\n",
       "    <tr>\n",
       "      <th rowspan=\"2\" valign=\"top\">Stella</th>\n",
       "      <th>36</th>\n",
       "      <td>Stella</td>\n",
       "      <td>18</td>\n",
       "    </tr>\n",
       "    <tr>\n",
       "      <th>46</th>\n",
       "      <td>Stella</td>\n",
       "      <td>18</td>\n",
       "    </tr>\n",
       "    <tr>\n",
       "      <th rowspan=\"2\" valign=\"top\">William</th>\n",
       "      <th>5</th>\n",
       "      <td>William</td>\n",
       "      <td>18</td>\n",
       "    </tr>\n",
       "    <tr>\n",
       "      <th>34</th>\n",
       "      <td>William</td>\n",
       "      <td>20</td>\n",
       "    </tr>\n",
       "  </tbody>\n",
       "</table>\n",
       "</div>"
      ],
      "text/plain": [
       "              eleve  note\n",
       "eleve                    \n",
       "Hugh    7      Hugh    17\n",
       "        17     Hugh    20\n",
       "Kimiko  22   Kimiko    18\n",
       "        48   Kimiko    20\n",
       "Marvin  25   Marvin    19\n",
       "        40   Marvin    20\n",
       "Serge   10    Serge    15\n",
       "        9     Serge    16\n",
       "Stella  36   Stella    18\n",
       "        46   Stella    18\n",
       "William 5   William    18\n",
       "        34  William    20"
      ]
     },
     "execution_count": 31,
     "metadata": {},
     "output_type": "execute_result"
    }
   ],
   "source": [
    "# And give default values\n",
    "def get_top(df,top=10,sort='note'):\n",
    "    return df.sort_values(by=sort)[-top:]\n",
    "eleves_notes.groupby(['eleve']).apply(get_top,top=2)"
   ]
  },
  {
   "cell_type": "markdown",
   "metadata": {},
   "source": [
    "Pour en savoir plus\n",
    "packing / unpacking : \n",
    "https://deusyss.developpez.com/tutoriels/Python/args_kwargs/\n",
    "et\n",
    "\n",
    "keyword parameters : \n",
    "https://treyhunner.com/2018/04/keyword-arguments-in-python/"
   ]
  },
  {
   "cell_type": "code",
   "execution_count": 32,
   "metadata": {},
   "outputs": [
    {
     "name": "stdout",
     "output_type": "stream",
     "text": [
      "Requirement already satisfied: geopandas in /usr/local/Cellar/jupyterlab/2.2.8/libexec/lib/python3.8/site-packages (0.8.1)\n",
      "Requirement already satisfied: pandas>=0.23.0 in /usr/local/Cellar/jupyterlab/2.2.8/libexec/lib/python3.8/site-packages (from geopandas) (1.1.3)\n",
      "Requirement already satisfied: pyproj>=2.2.0 in /usr/local/Cellar/jupyterlab/2.2.8/libexec/lib/python3.8/site-packages (from geopandas) (2.6.1.post1)\n",
      "Requirement already satisfied: fiona in /usr/local/Cellar/jupyterlab/2.2.8/libexec/lib/python3.8/site-packages (from geopandas) (1.8.17)\n",
      "Requirement already satisfied: shapely in /usr/local/Cellar/jupyterlab/2.2.8/libexec/lib/python3.8/site-packages (from geopandas) (1.7.1)\n",
      "Requirement already satisfied: pytz>=2017.2 in /usr/local/Cellar/jupyterlab/2.2.8/libexec/lib/python3.8/site-packages (from pandas>=0.23.0->geopandas) (2020.1)\n",
      "Requirement already satisfied: numpy>=1.15.4 in /usr/local/Cellar/jupyterlab/2.2.8/libexec/lib/python3.8/site-packages (from pandas>=0.23.0->geopandas) (1.19.2)\n",
      "Requirement already satisfied: python-dateutil>=2.7.3 in /usr/local/Cellar/jupyterlab/2.2.8/libexec/lib/python3.8/site-packages (from pandas>=0.23.0->geopandas) (2.8.1)\n",
      "Requirement already satisfied: attrs>=17 in /usr/local/Cellar/jupyterlab/2.2.8/libexec/lib/python3.8/site-packages (from fiona->geopandas) (20.2.0)\n",
      "Requirement already satisfied: munch in /usr/local/Cellar/jupyterlab/2.2.8/libexec/lib/python3.8/site-packages (from fiona->geopandas) (2.5.0)\n",
      "Requirement already satisfied: cligj>=0.5 in /usr/local/Cellar/jupyterlab/2.2.8/libexec/lib/python3.8/site-packages (from fiona->geopandas) (0.5.0)\n",
      "Requirement already satisfied: six>=1.7 in /usr/local/Cellar/jupyterlab/2.2.8/libexec/lib/python3.8/site-packages (from fiona->geopandas) (1.15.0)\n",
      "Requirement already satisfied: click-plugins>=1.0 in /usr/local/Cellar/jupyterlab/2.2.8/libexec/lib/python3.8/site-packages (from fiona->geopandas) (1.1.1)\n",
      "Requirement already satisfied: click<8,>=4.0 in /usr/local/Cellar/jupyterlab/2.2.8/libexec/lib/python3.8/site-packages (from fiona->geopandas) (7.1.2)\n",
      "\u001b[33mWARNING: You are using pip version 20.2.3; however, version 20.2.4 is available.\n",
      "You should consider upgrading via the '/usr/local/Cellar/jupyterlab/2.2.8/libexec/bin/python3.8 -m pip install --upgrade pip' command.\u001b[0m\n",
      "Note: you may need to restart the kernel to use updated packages.\n"
     ]
    }
   ],
   "source": [
    "pip install geopandas"
   ]
  },
  {
   "cell_type": "code",
   "execution_count": 33,
   "metadata": {},
   "outputs": [
    {
     "data": {
      "text/html": [
       "<div>\n",
       "<style scoped>\n",
       "    .dataframe tbody tr th:only-of-type {\n",
       "        vertical-align: middle;\n",
       "    }\n",
       "\n",
       "    .dataframe tbody tr th {\n",
       "        vertical-align: top;\n",
       "    }\n",
       "\n",
       "    .dataframe thead th {\n",
       "        text-align: right;\n",
       "    }\n",
       "</style>\n",
       "<table border=\"1\" class=\"dataframe\">\n",
       "  <thead>\n",
       "    <tr style=\"text-align: right;\">\n",
       "      <th></th>\n",
       "      <th>code_insee</th>\n",
       "      <th>nom</th>\n",
       "      <th>nuts3</th>\n",
       "      <th>wikipedia</th>\n",
       "      <th>geometry</th>\n",
       "    </tr>\n",
       "  </thead>\n",
       "  <tbody>\n",
       "    <tr>\n",
       "      <th>0</th>\n",
       "      <td>01</td>\n",
       "      <td>Ain</td>\n",
       "      <td>FR711</td>\n",
       "      <td>b'fr:Ain (d\\xe9partement)'</td>\n",
       "      <td>POLYGON ((5.25559 45.78459, 5.23987 45.77758, ...</td>\n",
       "    </tr>\n",
       "    <tr>\n",
       "      <th>1</th>\n",
       "      <td>02</td>\n",
       "      <td>Aisne</td>\n",
       "      <td>FR221</td>\n",
       "      <td>b'fr:Aisne (d\\xe9partement)'</td>\n",
       "      <td>POLYGON ((3.48175 48.86640, 3.48647 48.85768, ...</td>\n",
       "    </tr>\n",
       "    <tr>\n",
       "      <th>2</th>\n",
       "      <td>03</td>\n",
       "      <td>Allier</td>\n",
       "      <td>FR721</td>\n",
       "      <td>b'fr:Allier (d\\xe9partement)'</td>\n",
       "      <td>POLYGON ((2.38613 46.33196, 2.38407 46.33112, ...</td>\n",
       "    </tr>\n",
       "    <tr>\n",
       "      <th>3</th>\n",
       "      <td>04</td>\n",
       "      <td>Alpes-de-Haute-Provence</td>\n",
       "      <td>FR821</td>\n",
       "      <td>fr:Alpes-de-Haute-Provence</td>\n",
       "      <td>POLYGON ((6.66579 43.83120, 6.67673 43.83178, ...</td>\n",
       "    </tr>\n",
       "    <tr>\n",
       "      <th>4</th>\n",
       "      <td>05</td>\n",
       "      <td>Hautes-Alpes</td>\n",
       "      <td>FR822</td>\n",
       "      <td>fr:Hautes-Alpes</td>\n",
       "      <td>POLYGON ((6.24158 44.44686, 6.24411 44.44693, ...</td>\n",
       "    </tr>\n",
       "  </tbody>\n",
       "</table>\n",
       "</div>"
      ],
      "text/plain": [
       "  code_insee                      nom  nuts3                      wikipedia  \\\n",
       "0         01                      Ain  FR711     b'fr:Ain (d\\xe9partement)'   \n",
       "1         02                    Aisne  FR221   b'fr:Aisne (d\\xe9partement)'   \n",
       "2         03                   Allier  FR721  b'fr:Allier (d\\xe9partement)'   \n",
       "3         04  Alpes-de-Haute-Provence  FR821     fr:Alpes-de-Haute-Provence   \n",
       "4         05             Hautes-Alpes  FR822                fr:Hautes-Alpes   \n",
       "\n",
       "                                            geometry  \n",
       "0  POLYGON ((5.25559 45.78459, 5.23987 45.77758, ...  \n",
       "1  POLYGON ((3.48175 48.86640, 3.48647 48.85768, ...  \n",
       "2  POLYGON ((2.38613 46.33196, 2.38407 46.33112, ...  \n",
       "3  POLYGON ((6.66579 43.83120, 6.67673 43.83178, ...  \n",
       "4  POLYGON ((6.24158 44.44686, 6.24411 44.44693, ...  "
      ]
     },
     "execution_count": 33,
     "metadata": {},
     "output_type": "execute_result"
    }
   ],
   "source": [
    "import geopandas as gpd\n",
    "map_df = gpd.read_file(\"departements-20140306-50m-shp/departements-20140306-50m.shp\")\n",
    "map_df.head()"
   ]
  },
  {
   "cell_type": "code",
   "execution_count": 34,
   "metadata": {},
   "outputs": [],
   "source": [
    "#pip install descartes"
   ]
  },
  {
   "cell_type": "code",
   "execution_count": 35,
   "metadata": {},
   "outputs": [
    {
     "data": {
      "text/plain": [
       "<AxesSubplot:>"
      ]
     },
     "execution_count": 35,
     "metadata": {},
     "output_type": "execute_result"
    },
    {
     "data": {
      "image/png": "[encoded data removed]",
      "text/plain": [
       "<Figure size 432x288 with 1 Axes>"
      ]
     },
     "metadata": {
      "needs_background": "light"
     },
     "output_type": "display_data"
    }
   ],
   "source": [
    "import matplotlib as plt\n",
    "%matplotlib inline\n",
    "map_df.plot()"
   ]
  },
  {
   "cell_type": "code",
   "execution_count": 36,
   "metadata": {},
   "outputs": [
    {
     "data": {
      "text/html": [
       "<div>\n",
       "<style scoped>\n",
       "    .dataframe tbody tr th:only-of-type {\n",
       "        vertical-align: middle;\n",
       "    }\n",
       "\n",
       "    .dataframe tbody tr th {\n",
       "        vertical-align: top;\n",
       "    }\n",
       "\n",
       "    .dataframe thead th {\n",
       "        text-align: right;\n",
       "    }\n",
       "</style>\n",
       "<table border=\"1\" class=\"dataframe\">\n",
       "  <thead>\n",
       "    <tr style=\"text-align: right;\">\n",
       "      <th></th>\n",
       "      <th>code_insee</th>\n",
       "      <th>nom</th>\n",
       "      <th>nuts3</th>\n",
       "      <th>wikipedia</th>\n",
       "      <th>geometry</th>\n",
       "    </tr>\n",
       "  </thead>\n",
       "  <tbody>\n",
       "    <tr>\n",
       "      <th>96</th>\n",
       "      <td>971</td>\n",
       "      <td>Guadeloupe</td>\n",
       "      <td>FR910</td>\n",
       "      <td>fr:Guadeloupe</td>\n",
       "      <td>MULTIPOLYGON (((-61.61403 15.83955, -61.61399 ...</td>\n",
       "    </tr>\n",
       "    <tr>\n",
       "      <th>97</th>\n",
       "      <td>972</td>\n",
       "      <td>Martinique</td>\n",
       "      <td>FR920</td>\n",
       "      <td>fr:Martinique</td>\n",
       "      <td>MULTIPOLYGON (((-60.86880 14.39091, -60.86747 ...</td>\n",
       "    </tr>\n",
       "    <tr>\n",
       "      <th>98</th>\n",
       "      <td>973</td>\n",
       "      <td>Guyane</td>\n",
       "      <td>FR930</td>\n",
       "      <td>fr:Guyane</td>\n",
       "      <td>MULTIPOLYGON (((-52.58463 5.28309, -52.58316 5...</td>\n",
       "    </tr>\n",
       "    <tr>\n",
       "      <th>99</th>\n",
       "      <td>974</td>\n",
       "      <td>b'La R\\xe9union'</td>\n",
       "      <td>FR940</td>\n",
       "      <td>b'fr:La R\\xe9union'</td>\n",
       "      <td>MULTIPOLYGON (((55.77886 -21.36291, 55.77889 -...</td>\n",
       "    </tr>\n",
       "    <tr>\n",
       "      <th>100</th>\n",
       "      <td>976</td>\n",
       "      <td>Mayotte</td>\n",
       "      <td>None</td>\n",
       "      <td>fr:Mayotte</td>\n",
       "      <td>MULTIPOLYGON (((45.13667 -13.00398, 45.13859 -...</td>\n",
       "    </tr>\n",
       "  </tbody>\n",
       "</table>\n",
       "</div>"
      ],
      "text/plain": [
       "    code_insee               nom  nuts3            wikipedia  \\\n",
       "96         971        Guadeloupe  FR910        fr:Guadeloupe   \n",
       "97         972        Martinique  FR920        fr:Martinique   \n",
       "98         973            Guyane  FR930            fr:Guyane   \n",
       "99         974  b'La R\\xe9union'  FR940  b'fr:La R\\xe9union'   \n",
       "100        976           Mayotte   None           fr:Mayotte   \n",
       "\n",
       "                                              geometry  \n",
       "96   MULTIPOLYGON (((-61.61403 15.83955, -61.61399 ...  \n",
       "97   MULTIPOLYGON (((-60.86880 14.39091, -60.86747 ...  \n",
       "98   MULTIPOLYGON (((-52.58463 5.28309, -52.58316 5...  \n",
       "99   MULTIPOLYGON (((55.77886 -21.36291, 55.77889 -...  \n",
       "100  MULTIPOLYGON (((45.13667 -13.00398, 45.13859 -...  "
      ]
     },
     "execution_count": 36,
     "metadata": {},
     "output_type": "execute_result"
    }
   ],
   "source": [
    "map_df.tail()"
   ]
  },
  {
   "cell_type": "code",
   "execution_count": 37,
   "metadata": {},
   "outputs": [
    {
     "data": {
      "text/html": [
       "<div>\n",
       "<style scoped>\n",
       "    .dataframe tbody tr th:only-of-type {\n",
       "        vertical-align: middle;\n",
       "    }\n",
       "\n",
       "    .dataframe tbody tr th {\n",
       "        vertical-align: top;\n",
       "    }\n",
       "\n",
       "    .dataframe thead th {\n",
       "        text-align: right;\n",
       "    }\n",
       "</style>\n",
       "<table border=\"1\" class=\"dataframe\">\n",
       "  <thead>\n",
       "    <tr style=\"text-align: right;\">\n",
       "      <th></th>\n",
       "      <th>code_insee</th>\n",
       "      <th>nom</th>\n",
       "      <th>nuts3</th>\n",
       "      <th>wikipedia</th>\n",
       "      <th>geometry</th>\n",
       "    </tr>\n",
       "  </thead>\n",
       "  <tbody>\n",
       "    <tr>\n",
       "      <th>96</th>\n",
       "      <td>971</td>\n",
       "      <td>Guadeloupe</td>\n",
       "      <td>FR910</td>\n",
       "      <td>fr:Guadeloupe</td>\n",
       "      <td>MULTIPOLYGON (((-61.61403 15.83955, -61.61399 ...</td>\n",
       "    </tr>\n",
       "    <tr>\n",
       "      <th>97</th>\n",
       "      <td>972</td>\n",
       "      <td>Martinique</td>\n",
       "      <td>FR920</td>\n",
       "      <td>fr:Martinique</td>\n",
       "      <td>MULTIPOLYGON (((-60.86880 14.39091, -60.86747 ...</td>\n",
       "    </tr>\n",
       "    <tr>\n",
       "      <th>98</th>\n",
       "      <td>973</td>\n",
       "      <td>Guyane</td>\n",
       "      <td>FR930</td>\n",
       "      <td>fr:Guyane</td>\n",
       "      <td>MULTIPOLYGON (((-52.58463 5.28309, -52.58316 5...</td>\n",
       "    </tr>\n",
       "    <tr>\n",
       "      <th>99</th>\n",
       "      <td>974</td>\n",
       "      <td>b'La R\\xe9union'</td>\n",
       "      <td>FR940</td>\n",
       "      <td>b'fr:La R\\xe9union'</td>\n",
       "      <td>MULTIPOLYGON (((55.77886 -21.36291, 55.77889 -...</td>\n",
       "    </tr>\n",
       "    <tr>\n",
       "      <th>100</th>\n",
       "      <td>976</td>\n",
       "      <td>Mayotte</td>\n",
       "      <td>None</td>\n",
       "      <td>fr:Mayotte</td>\n",
       "      <td>MULTIPOLYGON (((45.13667 -13.00398, 45.13859 -...</td>\n",
       "    </tr>\n",
       "  </tbody>\n",
       "</table>\n",
       "</div>"
      ],
      "text/plain": [
       "    code_insee               nom  nuts3            wikipedia  \\\n",
       "96         971        Guadeloupe  FR910        fr:Guadeloupe   \n",
       "97         972        Martinique  FR920        fr:Martinique   \n",
       "98         973            Guyane  FR930            fr:Guyane   \n",
       "99         974  b'La R\\xe9union'  FR940  b'fr:La R\\xe9union'   \n",
       "100        976           Mayotte   None           fr:Mayotte   \n",
       "\n",
       "                                              geometry  \n",
       "96   MULTIPOLYGON (((-61.61403 15.83955, -61.61399 ...  \n",
       "97   MULTIPOLYGON (((-60.86880 14.39091, -60.86747 ...  \n",
       "98   MULTIPOLYGON (((-52.58463 5.28309, -52.58316 5...  \n",
       "99   MULTIPOLYGON (((55.77886 -21.36291, 55.77889 -...  \n",
       "100  MULTIPOLYGON (((45.13667 -13.00398, 45.13859 -...  "
      ]
     },
     "execution_count": 37,
     "metadata": {},
     "output_type": "execute_result"
    }
   ],
   "source": [
    "map_df[map_df.code_insee.str.contains(\"\\d\\d\\d\")]"
   ]
  },
  {
   "cell_type": "code",
   "execution_count": 38,
   "metadata": {},
   "outputs": [],
   "source": [
    "map_df=map_df[map_df.code_insee.str.contains(\"\\d\\d\\d\")==False]"
   ]
  },
  {
   "cell_type": "code",
   "execution_count": 39,
   "metadata": {},
   "outputs": [
    {
     "data": {
      "text/plain": [
       "<AxesSubplot:>"
      ]
     },
     "execution_count": 39,
     "metadata": {},
     "output_type": "execute_result"
    },
    {
     "data": {
      "image/png": "[encoded data removed]",
      "text/plain": [
       "<Figure size 432x288 with 1 Axes>"
      ]
     },
     "metadata": {
      "needs_background": "light"
     },
     "output_type": "display_data"
    }
   ],
   "source": [
    "map_df.plot()"
   ]
  },
  {
   "cell_type": "code",
   "execution_count": 40,
   "metadata": {},
   "outputs": [],
   "source": [
    "# YOU MUST KNOW REGEXPS\n",
    "# REGEXP SYNTAX https://www.w3schools.com/python/python_regex.asp\n",
    "# Pandas contains :"
   ]
  },
  {
   "cell_type": "code",
   "execution_count": 41,
   "metadata": {},
   "outputs": [
    {
     "data": {
      "text/html": [
       "<div>\n",
       "<style scoped>\n",
       "    .dataframe tbody tr th:only-of-type {\n",
       "        vertical-align: middle;\n",
       "    }\n",
       "\n",
       "    .dataframe tbody tr th {\n",
       "        vertical-align: top;\n",
       "    }\n",
       "\n",
       "    .dataframe thead th {\n",
       "        text-align: right;\n",
       "    }\n",
       "</style>\n",
       "<table border=\"1\" class=\"dataframe\">\n",
       "  <thead>\n",
       "    <tr style=\"text-align: right;\">\n",
       "      <th></th>\n",
       "      <th>code_insee</th>\n",
       "      <th>nom</th>\n",
       "      <th>nuts3</th>\n",
       "      <th>wikipedia</th>\n",
       "      <th>geometry</th>\n",
       "    </tr>\n",
       "  </thead>\n",
       "  <tbody>\n",
       "    <tr>\n",
       "      <th>0</th>\n",
       "      <td>01</td>\n",
       "      <td>Ain</td>\n",
       "      <td>FR711</td>\n",
       "      <td>b'fr:Ain (d\\xe9partement)'</td>\n",
       "      <td>POLYGON ((5.25559 45.78459, 5.23987 45.77758, ...</td>\n",
       "    </tr>\n",
       "    <tr>\n",
       "      <th>1</th>\n",
       "      <td>02</td>\n",
       "      <td>Aisne</td>\n",
       "      <td>FR221</td>\n",
       "      <td>b'fr:Aisne (d\\xe9partement)'</td>\n",
       "      <td>POLYGON ((3.48175 48.86640, 3.48647 48.85768, ...</td>\n",
       "    </tr>\n",
       "    <tr>\n",
       "      <th>2</th>\n",
       "      <td>03</td>\n",
       "      <td>Allier</td>\n",
       "      <td>FR721</td>\n",
       "      <td>b'fr:Allier (d\\xe9partement)'</td>\n",
       "      <td>POLYGON ((2.38613 46.33196, 2.38407 46.33112, ...</td>\n",
       "    </tr>\n",
       "    <tr>\n",
       "      <th>3</th>\n",
       "      <td>04</td>\n",
       "      <td>Alpes-de-Haute-Provence</td>\n",
       "      <td>FR821</td>\n",
       "      <td>fr:Alpes-de-Haute-Provence</td>\n",
       "      <td>POLYGON ((6.66579 43.83120, 6.67673 43.83178, ...</td>\n",
       "    </tr>\n",
       "    <tr>\n",
       "      <th>4</th>\n",
       "      <td>05</td>\n",
       "      <td>Hautes-Alpes</td>\n",
       "      <td>FR822</td>\n",
       "      <td>fr:Hautes-Alpes</td>\n",
       "      <td>POLYGON ((6.24158 44.44686, 6.24411 44.44693, ...</td>\n",
       "    </tr>\n",
       "    <tr>\n",
       "      <th>...</th>\n",
       "      <td>...</td>\n",
       "      <td>...</td>\n",
       "      <td>...</td>\n",
       "      <td>...</td>\n",
       "      <td>...</td>\n",
       "    </tr>\n",
       "    <tr>\n",
       "      <th>91</th>\n",
       "      <td>91</td>\n",
       "      <td>Essonne</td>\n",
       "      <td>FR104</td>\n",
       "      <td>b'fr:Essonne (d\\xe9partement)'</td>\n",
       "      <td>POLYGON ((2.39233 48.33593, 2.39427 48.33263, ...</td>\n",
       "    </tr>\n",
       "    <tr>\n",
       "      <th>92</th>\n",
       "      <td>92</td>\n",
       "      <td>Hauts-de-Seine</td>\n",
       "      <td>FR105</td>\n",
       "      <td>fr:Hauts-de-Seine</td>\n",
       "      <td>POLYGON ((2.31993 48.77075, 2.31588 48.76670, ...</td>\n",
       "    </tr>\n",
       "    <tr>\n",
       "      <th>93</th>\n",
       "      <td>93</td>\n",
       "      <td>Seine-Saint-Denis</td>\n",
       "      <td>FR106</td>\n",
       "      <td>fr:Seine-Saint-Denis</td>\n",
       "      <td>POLYGON ((2.41899 48.84939, 2.41636 48.84924, ...</td>\n",
       "    </tr>\n",
       "    <tr>\n",
       "      <th>94</th>\n",
       "      <td>94</td>\n",
       "      <td>Val-de-Marne</td>\n",
       "      <td>FR107</td>\n",
       "      <td>fr:Val-de-Marne</td>\n",
       "      <td>POLYGON ((2.41450 48.71780, 2.41320 48.71868, ...</td>\n",
       "    </tr>\n",
       "    <tr>\n",
       "      <th>95</th>\n",
       "      <td>95</td>\n",
       "      <td>Val-d'Oise</td>\n",
       "      <td>FR108</td>\n",
       "      <td>fr:Val-d'Oise</td>\n",
       "      <td>POLYGON ((1.79674 49.07196, 1.79991 49.06425, ...</td>\n",
       "    </tr>\n",
       "  </tbody>\n",
       "</table>\n",
       "<p>96 rows × 5 columns</p>\n",
       "</div>"
      ],
      "text/plain": [
       "   code_insee                      nom  nuts3                       wikipedia  \\\n",
       "0          01                      Ain  FR711      b'fr:Ain (d\\xe9partement)'   \n",
       "1          02                    Aisne  FR221    b'fr:Aisne (d\\xe9partement)'   \n",
       "2          03                   Allier  FR721   b'fr:Allier (d\\xe9partement)'   \n",
       "3          04  Alpes-de-Haute-Provence  FR821      fr:Alpes-de-Haute-Provence   \n",
       "4          05             Hautes-Alpes  FR822                 fr:Hautes-Alpes   \n",
       "..        ...                      ...    ...                             ...   \n",
       "91         91                  Essonne  FR104  b'fr:Essonne (d\\xe9partement)'   \n",
       "92         92           Hauts-de-Seine  FR105               fr:Hauts-de-Seine   \n",
       "93         93        Seine-Saint-Denis  FR106            fr:Seine-Saint-Denis   \n",
       "94         94             Val-de-Marne  FR107                 fr:Val-de-Marne   \n",
       "95         95               Val-d'Oise  FR108                   fr:Val-d'Oise   \n",
       "\n",
       "                                             geometry  \n",
       "0   POLYGON ((5.25559 45.78459, 5.23987 45.77758, ...  \n",
       "1   POLYGON ((3.48175 48.86640, 3.48647 48.85768, ...  \n",
       "2   POLYGON ((2.38613 46.33196, 2.38407 46.33112, ...  \n",
       "3   POLYGON ((6.66579 43.83120, 6.67673 43.83178, ...  \n",
       "4   POLYGON ((6.24158 44.44686, 6.24411 44.44693, ...  \n",
       "..                                                ...  \n",
       "91  POLYGON ((2.39233 48.33593, 2.39427 48.33263, ...  \n",
       "92  POLYGON ((2.31993 48.77075, 2.31588 48.76670, ...  \n",
       "93  POLYGON ((2.41899 48.84939, 2.41636 48.84924, ...  \n",
       "94  POLYGON ((2.41450 48.71780, 2.41320 48.71868, ...  \n",
       "95  POLYGON ((1.79674 49.07196, 1.79991 49.06425, ...  \n",
       "\n",
       "[96 rows x 5 columns]"
      ]
     },
     "execution_count": 41,
     "metadata": {},
     "output_type": "execute_result"
    }
   ],
   "source": [
    "map_df"
   ]
  },
  {
   "cell_type": "code",
   "execution_count": 42,
   "metadata": {},
   "outputs": [
    {
     "data": {
      "text/html": [
       "<div>\n",
       "<style scoped>\n",
       "    .dataframe tbody tr th:only-of-type {\n",
       "        vertical-align: middle;\n",
       "    }\n",
       "\n",
       "    .dataframe tbody tr th {\n",
       "        vertical-align: top;\n",
       "    }\n",
       "\n",
       "    .dataframe thead th {\n",
       "        text-align: right;\n",
       "    }\n",
       "</style>\n",
       "<table border=\"1\" class=\"dataframe\">\n",
       "  <thead>\n",
       "    <tr style=\"text-align: right;\">\n",
       "      <th></th>\n",
       "      <th>sexe</th>\n",
       "      <th>preusuel</th>\n",
       "      <th>annais</th>\n",
       "      <th>dpt</th>\n",
       "      <th>nombre</th>\n",
       "    </tr>\n",
       "  </thead>\n",
       "  <tbody>\n",
       "    <tr>\n",
       "      <th>0</th>\n",
       "      <td>1</td>\n",
       "      <td>A</td>\n",
       "      <td>XXXX</td>\n",
       "      <td>XX</td>\n",
       "      <td>27</td>\n",
       "    </tr>\n",
       "    <tr>\n",
       "      <th>1</th>\n",
       "      <td>1</td>\n",
       "      <td>AADAM</td>\n",
       "      <td>XXXX</td>\n",
       "      <td>XX</td>\n",
       "      <td>27</td>\n",
       "    </tr>\n",
       "    <tr>\n",
       "      <th>2</th>\n",
       "      <td>1</td>\n",
       "      <td>AADEL</td>\n",
       "      <td>XXXX</td>\n",
       "      <td>XX</td>\n",
       "      <td>55</td>\n",
       "    </tr>\n",
       "    <tr>\n",
       "      <th>3</th>\n",
       "      <td>1</td>\n",
       "      <td>AADIL</td>\n",
       "      <td>1983</td>\n",
       "      <td>84</td>\n",
       "      <td>3</td>\n",
       "    </tr>\n",
       "    <tr>\n",
       "      <th>4</th>\n",
       "      <td>1</td>\n",
       "      <td>AADIL</td>\n",
       "      <td>1992</td>\n",
       "      <td>92</td>\n",
       "      <td>3</td>\n",
       "    </tr>\n",
       "    <tr>\n",
       "      <th>...</th>\n",
       "      <td>...</td>\n",
       "      <td>...</td>\n",
       "      <td>...</td>\n",
       "      <td>...</td>\n",
       "      <td>...</td>\n",
       "    </tr>\n",
       "    <tr>\n",
       "      <th>3624989</th>\n",
       "      <td>2</td>\n",
       "      <td>ÉYA</td>\n",
       "      <td>2014</td>\n",
       "      <td>69</td>\n",
       "      <td>3</td>\n",
       "    </tr>\n",
       "    <tr>\n",
       "      <th>3624990</th>\n",
       "      <td>2</td>\n",
       "      <td>ÉYA</td>\n",
       "      <td>XXXX</td>\n",
       "      <td>XX</td>\n",
       "      <td>23</td>\n",
       "    </tr>\n",
       "    <tr>\n",
       "      <th>3624991</th>\n",
       "      <td>2</td>\n",
       "      <td>ÏNAYA</td>\n",
       "      <td>XXXX</td>\n",
       "      <td>XX</td>\n",
       "      <td>21</td>\n",
       "    </tr>\n",
       "    <tr>\n",
       "      <th>3624992</th>\n",
       "      <td>2</td>\n",
       "      <td>ÖZGE</td>\n",
       "      <td>XXXX</td>\n",
       "      <td>XX</td>\n",
       "      <td>30</td>\n",
       "    </tr>\n",
       "    <tr>\n",
       "      <th>3624993</th>\n",
       "      <td>2</td>\n",
       "      <td>ÖZLEM</td>\n",
       "      <td>XXXX</td>\n",
       "      <td>XX</td>\n",
       "      <td>95</td>\n",
       "    </tr>\n",
       "  </tbody>\n",
       "</table>\n",
       "<p>3624994 rows × 5 columns</p>\n",
       "</div>"
      ],
      "text/plain": [
       "         sexe preusuel annais dpt  nombre\n",
       "0           1        A   XXXX  XX      27\n",
       "1           1    AADAM   XXXX  XX      27\n",
       "2           1    AADEL   XXXX  XX      55\n",
       "3           1    AADIL   1983  84       3\n",
       "4           1    AADIL   1992  92       3\n",
       "...       ...      ...    ...  ..     ...\n",
       "3624989     2      ÉYA   2014  69       3\n",
       "3624990     2      ÉYA   XXXX  XX      23\n",
       "3624991     2    ÏNAYA   XXXX  XX      21\n",
       "3624992     2     ÖZGE   XXXX  XX      30\n",
       "3624993     2    ÖZLEM   XXXX  XX      95\n",
       "\n",
       "[3624994 rows x 5 columns]"
      ]
     },
     "execution_count": 42,
     "metadata": {},
     "output_type": "execute_result"
    }
   ],
   "source": [
    "# Je veux le merger avec Dataframe valeur a afficher sur carte\n",
    "prenoms = pd.read_csv(\"dpt2018.csv\", sep=\";\")\n",
    "prenoms"
   ]
  },
  {
   "cell_type": "code",
   "execution_count": 43,
   "metadata": {},
   "outputs": [
    {
     "data": {
      "text/plain": [
       "dpt\n",
       "01      437904\n",
       "02      842940\n",
       "03      498369\n",
       "04      105739\n",
       "05      126071\n",
       "        ...   \n",
       "971     640654\n",
       "972     637827\n",
       "973     169185\n",
       "974    1192007\n",
       "XX     8261688\n",
       "Name: nombre, Length: 100, dtype: int64"
      ]
     },
     "execution_count": 43,
     "metadata": {},
     "output_type": "execute_result"
    }
   ],
   "source": [
    "dpt_sum=prenoms.groupby(\"dpt\").nombre.sum()\n",
    "dpt_sum"
   ]
  },
  {
   "cell_type": "code",
   "execution_count": 44,
   "metadata": {},
   "outputs": [
    {
     "data": {
      "text/plain": [
       "pandas.core.series.Series"
      ]
     },
     "execution_count": 44,
     "metadata": {},
     "output_type": "execute_result"
    }
   ],
   "source": [
    "type(dpt_sum)"
   ]
  },
  {
   "cell_type": "code",
   "execution_count": 45,
   "metadata": {},
   "outputs": [
    {
     "data": {
      "text/html": [
       "<div>\n",
       "<style scoped>\n",
       "    .dataframe tbody tr th:only-of-type {\n",
       "        vertical-align: middle;\n",
       "    }\n",
       "\n",
       "    .dataframe tbody tr th {\n",
       "        vertical-align: top;\n",
       "    }\n",
       "\n",
       "    .dataframe thead th {\n",
       "        text-align: right;\n",
       "    }\n",
       "</style>\n",
       "<table border=\"1\" class=\"dataframe\">\n",
       "  <thead>\n",
       "    <tr style=\"text-align: right;\">\n",
       "      <th></th>\n",
       "      <th>dpt</th>\n",
       "      <th>nombre</th>\n",
       "    </tr>\n",
       "  </thead>\n",
       "  <tbody>\n",
       "    <tr>\n",
       "      <th>0</th>\n",
       "      <td>01</td>\n",
       "      <td>437904</td>\n",
       "    </tr>\n",
       "    <tr>\n",
       "      <th>1</th>\n",
       "      <td>02</td>\n",
       "      <td>842940</td>\n",
       "    </tr>\n",
       "    <tr>\n",
       "      <th>2</th>\n",
       "      <td>03</td>\n",
       "      <td>498369</td>\n",
       "    </tr>\n",
       "    <tr>\n",
       "      <th>3</th>\n",
       "      <td>04</td>\n",
       "      <td>105739</td>\n",
       "    </tr>\n",
       "    <tr>\n",
       "      <th>4</th>\n",
       "      <td>05</td>\n",
       "      <td>126071</td>\n",
       "    </tr>\n",
       "    <tr>\n",
       "      <th>...</th>\n",
       "      <td>...</td>\n",
       "      <td>...</td>\n",
       "    </tr>\n",
       "    <tr>\n",
       "      <th>95</th>\n",
       "      <td>971</td>\n",
       "      <td>640654</td>\n",
       "    </tr>\n",
       "    <tr>\n",
       "      <th>96</th>\n",
       "      <td>972</td>\n",
       "      <td>637827</td>\n",
       "    </tr>\n",
       "    <tr>\n",
       "      <th>97</th>\n",
       "      <td>973</td>\n",
       "      <td>169185</td>\n",
       "    </tr>\n",
       "    <tr>\n",
       "      <th>98</th>\n",
       "      <td>974</td>\n",
       "      <td>1192007</td>\n",
       "    </tr>\n",
       "    <tr>\n",
       "      <th>99</th>\n",
       "      <td>XX</td>\n",
       "      <td>8261688</td>\n",
       "    </tr>\n",
       "  </tbody>\n",
       "</table>\n",
       "<p>100 rows × 2 columns</p>\n",
       "</div>"
      ],
      "text/plain": [
       "    dpt   nombre\n",
       "0    01   437904\n",
       "1    02   842940\n",
       "2    03   498369\n",
       "3    04   105739\n",
       "4    05   126071\n",
       "..  ...      ...\n",
       "95  971   640654\n",
       "96  972   637827\n",
       "97  973   169185\n",
       "98  974  1192007\n",
       "99   XX  8261688\n",
       "\n",
       "[100 rows x 2 columns]"
      ]
     },
     "execution_count": 45,
     "metadata": {},
     "output_type": "execute_result"
    }
   ],
   "source": [
    "# Pandas : 2 type variable, les tab et les series, les tab sont fait de colonnes, \n",
    "# et une colonne = series\n",
    "\n",
    "dpt_sum = dpt_sum.reset_index()\n",
    "dpt_sum"
   ]
  },
  {
   "cell_type": "code",
   "execution_count": 46,
   "metadata": {},
   "outputs": [
    {
     "data": {
      "text/plain": [
       "pandas.core.frame.DataFrame"
      ]
     },
     "execution_count": 46,
     "metadata": {},
     "output_type": "execute_result"
    }
   ],
   "source": [
    "type(dpt_sum)"
   ]
  },
  {
   "cell_type": "code",
   "execution_count": 47,
   "metadata": {},
   "outputs": [
    {
     "data": {
      "text/html": [
       "<div>\n",
       "<style scoped>\n",
       "    .dataframe tbody tr th:only-of-type {\n",
       "        vertical-align: middle;\n",
       "    }\n",
       "\n",
       "    .dataframe tbody tr th {\n",
       "        vertical-align: top;\n",
       "    }\n",
       "\n",
       "    .dataframe thead th {\n",
       "        text-align: right;\n",
       "    }\n",
       "</style>\n",
       "<table border=\"1\" class=\"dataframe\">\n",
       "  <thead>\n",
       "    <tr style=\"text-align: right;\">\n",
       "      <th></th>\n",
       "      <th>dpt</th>\n",
       "      <th>nombre</th>\n",
       "      <th>code_insee</th>\n",
       "    </tr>\n",
       "  </thead>\n",
       "  <tbody>\n",
       "    <tr>\n",
       "      <th>0</th>\n",
       "      <td>01</td>\n",
       "      <td>437904</td>\n",
       "      <td>01</td>\n",
       "    </tr>\n",
       "    <tr>\n",
       "      <th>1</th>\n",
       "      <td>02</td>\n",
       "      <td>842940</td>\n",
       "      <td>02</td>\n",
       "    </tr>\n",
       "    <tr>\n",
       "      <th>2</th>\n",
       "      <td>03</td>\n",
       "      <td>498369</td>\n",
       "      <td>03</td>\n",
       "    </tr>\n",
       "    <tr>\n",
       "      <th>3</th>\n",
       "      <td>04</td>\n",
       "      <td>105739</td>\n",
       "      <td>04</td>\n",
       "    </tr>\n",
       "    <tr>\n",
       "      <th>4</th>\n",
       "      <td>05</td>\n",
       "      <td>126071</td>\n",
       "      <td>05</td>\n",
       "    </tr>\n",
       "    <tr>\n",
       "      <th>...</th>\n",
       "      <td>...</td>\n",
       "      <td>...</td>\n",
       "      <td>...</td>\n",
       "    </tr>\n",
       "    <tr>\n",
       "      <th>95</th>\n",
       "      <td>971</td>\n",
       "      <td>640654</td>\n",
       "      <td>971</td>\n",
       "    </tr>\n",
       "    <tr>\n",
       "      <th>96</th>\n",
       "      <td>972</td>\n",
       "      <td>637827</td>\n",
       "      <td>972</td>\n",
       "    </tr>\n",
       "    <tr>\n",
       "      <th>97</th>\n",
       "      <td>973</td>\n",
       "      <td>169185</td>\n",
       "      <td>973</td>\n",
       "    </tr>\n",
       "    <tr>\n",
       "      <th>98</th>\n",
       "      <td>974</td>\n",
       "      <td>1192007</td>\n",
       "      <td>974</td>\n",
       "    </tr>\n",
       "    <tr>\n",
       "      <th>99</th>\n",
       "      <td>XX</td>\n",
       "      <td>8261688</td>\n",
       "      <td>XX</td>\n",
       "    </tr>\n",
       "  </tbody>\n",
       "</table>\n",
       "<p>100 rows × 3 columns</p>\n",
       "</div>"
      ],
      "text/plain": [
       "    dpt   nombre code_insee\n",
       "0    01   437904         01\n",
       "1    02   842940         02\n",
       "2    03   498369         03\n",
       "3    04   105739         04\n",
       "4    05   126071         05\n",
       "..  ...      ...        ...\n",
       "95  971   640654        971\n",
       "96  972   637827        972\n",
       "97  973   169185        973\n",
       "98  974  1192007        974\n",
       "99   XX  8261688         XX\n",
       "\n",
       "[100 rows x 3 columns]"
      ]
     },
     "execution_count": 47,
     "metadata": {},
     "output_type": "execute_result"
    }
   ],
   "source": [
    "#Nouvelle colonne ! avec le meme nom quand dans l'autre truc\n",
    "dpt_sum[\"code_insee\"]=dpt_sum.dpt\n",
    "dpt_sum"
   ]
  },
  {
   "cell_type": "code",
   "execution_count": 48,
   "metadata": {},
   "outputs": [
    {
     "data": {
      "text/html": [
       "<div>\n",
       "<style scoped>\n",
       "    .dataframe tbody tr th:only-of-type {\n",
       "        vertical-align: middle;\n",
       "    }\n",
       "\n",
       "    .dataframe tbody tr th {\n",
       "        vertical-align: top;\n",
       "    }\n",
       "\n",
       "    .dataframe thead th {\n",
       "        text-align: right;\n",
       "    }\n",
       "</style>\n",
       "<table border=\"1\" class=\"dataframe\">\n",
       "  <thead>\n",
       "    <tr style=\"text-align: right;\">\n",
       "      <th></th>\n",
       "      <th>code_insee</th>\n",
       "      <th>nom</th>\n",
       "      <th>nuts3</th>\n",
       "      <th>wikipedia</th>\n",
       "      <th>geometry</th>\n",
       "      <th>dpt</th>\n",
       "      <th>nombre</th>\n",
       "    </tr>\n",
       "  </thead>\n",
       "  <tbody>\n",
       "    <tr>\n",
       "      <th>0</th>\n",
       "      <td>01</td>\n",
       "      <td>Ain</td>\n",
       "      <td>FR711</td>\n",
       "      <td>b'fr:Ain (d\\xe9partement)'</td>\n",
       "      <td>POLYGON ((5.25559 45.78459, 5.23987 45.77758, ...</td>\n",
       "      <td>01</td>\n",
       "      <td>437904</td>\n",
       "    </tr>\n",
       "    <tr>\n",
       "      <th>1</th>\n",
       "      <td>02</td>\n",
       "      <td>Aisne</td>\n",
       "      <td>FR221</td>\n",
       "      <td>b'fr:Aisne (d\\xe9partement)'</td>\n",
       "      <td>POLYGON ((3.48175 48.86640, 3.48647 48.85768, ...</td>\n",
       "      <td>02</td>\n",
       "      <td>842940</td>\n",
       "    </tr>\n",
       "    <tr>\n",
       "      <th>2</th>\n",
       "      <td>03</td>\n",
       "      <td>Allier</td>\n",
       "      <td>FR721</td>\n",
       "      <td>b'fr:Allier (d\\xe9partement)'</td>\n",
       "      <td>POLYGON ((2.38613 46.33196, 2.38407 46.33112, ...</td>\n",
       "      <td>03</td>\n",
       "      <td>498369</td>\n",
       "    </tr>\n",
       "    <tr>\n",
       "      <th>3</th>\n",
       "      <td>04</td>\n",
       "      <td>Alpes-de-Haute-Provence</td>\n",
       "      <td>FR821</td>\n",
       "      <td>fr:Alpes-de-Haute-Provence</td>\n",
       "      <td>POLYGON ((6.66579 43.83120, 6.67673 43.83178, ...</td>\n",
       "      <td>04</td>\n",
       "      <td>105739</td>\n",
       "    </tr>\n",
       "    <tr>\n",
       "      <th>4</th>\n",
       "      <td>05</td>\n",
       "      <td>Hautes-Alpes</td>\n",
       "      <td>FR822</td>\n",
       "      <td>fr:Hautes-Alpes</td>\n",
       "      <td>POLYGON ((6.24158 44.44686, 6.24411 44.44693, ...</td>\n",
       "      <td>05</td>\n",
       "      <td>126071</td>\n",
       "    </tr>\n",
       "  </tbody>\n",
       "</table>\n",
       "</div>"
      ],
      "text/plain": [
       "  code_insee                      nom  nuts3                      wikipedia  \\\n",
       "0         01                      Ain  FR711     b'fr:Ain (d\\xe9partement)'   \n",
       "1         02                    Aisne  FR221   b'fr:Aisne (d\\xe9partement)'   \n",
       "2         03                   Allier  FR721  b'fr:Allier (d\\xe9partement)'   \n",
       "3         04  Alpes-de-Haute-Provence  FR821     fr:Alpes-de-Haute-Provence   \n",
       "4         05             Hautes-Alpes  FR822                fr:Hautes-Alpes   \n",
       "\n",
       "                                            geometry dpt  nombre  \n",
       "0  POLYGON ((5.25559 45.78459, 5.23987 45.77758, ...  01  437904  \n",
       "1  POLYGON ((3.48175 48.86640, 3.48647 48.85768, ...  02  842940  \n",
       "2  POLYGON ((2.38613 46.33196, 2.38407 46.33112, ...  03  498369  \n",
       "3  POLYGON ((6.66579 43.83120, 6.67673 43.83178, ...  04  105739  \n",
       "4  POLYGON ((6.24158 44.44686, 6.24411 44.44693, ...  05  126071  "
      ]
     },
     "execution_count": 48,
     "metadata": {},
     "output_type": "execute_result"
    }
   ],
   "source": [
    "# Merge\n",
    "merged = map_df.merge(dpt_sum,on=\"code_insee\")\n",
    "merged.head()"
   ]
  },
  {
   "cell_type": "code",
   "execution_count": 49,
   "metadata": {},
   "outputs": [
    {
     "data": {
      "text/plain": [
       "<AxesSubplot:>"
      ]
     },
     "execution_count": 49,
     "metadata": {},
     "output_type": "execute_result"
    },
    {
     "data": {
      "image/png": "[encoded data removed]",
      "text/plain": [
       "<Figure size 576x432 with 2 Axes>"
      ]
     },
     "metadata": {
      "needs_background": "light"
     },
     "output_type": "display_data"
    }
   ],
   "source": [
    "import matplotlib.pyplot as plt\n",
    "fig, ax = plt.subplots(1, figsize=(8, 6))\n",
    "\n",
    "merged.plot(column=\"nombre\",   ax=ax, linewidth=0.3,edgecolor=\"0.8\",legend=True,legend_kwds\n",
    "            ={\"label\": \"Total Birth by Departement\"})"
   ]
  },
  {
   "cell_type": "code",
   "execution_count": 50,
   "metadata": {},
   "outputs": [
    {
     "data": {
      "text/plain": [
       "<AxesSubplot:>"
      ]
     },
     "execution_count": 50,
     "metadata": {},
     "output_type": "execute_result"
    },
    {
     "data": {
      "image/png": "[encoded data removed]",
      "text/plain": [
       "<Figure size 576x432 with 2 Axes>"
      ]
     },
     "metadata": {
      "needs_background": "light"
     },
     "output_type": "display_data"
    }
   ],
   "source": [
    "# Zoom ! \n",
    "fig, ax = plt.subplots(1, figsize=(8, 6))\n",
    "plt.axis([1.5,3,48.5,49.25])\n",
    "\n",
    "merged.plot(column=\"nombre\", ax=ax , linewidth=0.3, edgecolor=\"0.5\", legend=True, legend_kwds\n",
    "            ={\"label\": \"Total Birth by Departement\"})\n",
    "\n"
   ]
  },
  {
   "cell_type": "markdown",
   "metadata": {},
   "source": [
    "# EXERCICES"
   ]
  },
  {
   "cell_type": "markdown",
   "metadata": {},
   "source": [
    "*  Display a choropleth map with Boys/girls total \n",
    "births disparity\n",
    "\n",
    "*  The same but weighted by total dpt population\n",
    "\n",
    "*  Display a choropleth map with number of girls named Emma born in 2018\n",
    "\n",
    "*  The same but weighted by total dpt population ( for instance nb of Emma births per thousand of population in the dpt )\n",
    "\n",
    "\n",
    "to do this you must find a file with 2018 population for every dpt. the file must contain a department column with the same data as the prenoms dpt column...\n",
    "\n",
    "SUPERBONUS\n",
    "\n",
    "*  choropleth map for the most innovant departements , population weighted what is innovation ?\n",
    "\n",
    "*  choropleth map for the most trendsetting departements , population weighted what is trendsetting ? we could detect firstname that appear (or come again..) in one or a few departments only, and then grows in other departments.\n",
    "\n"
   ]
  },
  {
   "cell_type": "markdown",
   "metadata": {},
   "source": [
    "## Display a choropleth map with Boys/girls total births disparity"
   ]
  },
  {
   "cell_type": "code",
   "execution_count": 51,
   "metadata": {
    "scrolled": true
   },
   "outputs": [
    {
     "data": {
      "text/html": [
       "<div>\n",
       "<style scoped>\n",
       "    .dataframe tbody tr th:only-of-type {\n",
       "        vertical-align: middle;\n",
       "    }\n",
       "\n",
       "    .dataframe tbody tr th {\n",
       "        vertical-align: top;\n",
       "    }\n",
       "\n",
       "    .dataframe thead th {\n",
       "        text-align: right;\n",
       "    }\n",
       "</style>\n",
       "<table border=\"1\" class=\"dataframe\">\n",
       "  <thead>\n",
       "    <tr style=\"text-align: right;\">\n",
       "      <th></th>\n",
       "      <th>code_insee</th>\n",
       "      <th>nom</th>\n",
       "      <th>nuts3</th>\n",
       "      <th>wikipedia</th>\n",
       "      <th>geometry</th>\n",
       "      <th>dpt</th>\n",
       "      <th>nBoys</th>\n",
       "      <th>nGirls</th>\n",
       "    </tr>\n",
       "  </thead>\n",
       "  <tbody>\n",
       "    <tr>\n",
       "      <th>0</th>\n",
       "      <td>01</td>\n",
       "      <td>Ain</td>\n",
       "      <td>FR711</td>\n",
       "      <td>b'fr:Ain (d\\xe9partement)'</td>\n",
       "      <td>POLYGON ((5.25559 45.78459, 5.23987 45.77758, ...</td>\n",
       "      <td>01</td>\n",
       "      <td>222361</td>\n",
       "      <td>215543</td>\n",
       "    </tr>\n",
       "    <tr>\n",
       "      <th>1</th>\n",
       "      <td>02</td>\n",
       "      <td>Aisne</td>\n",
       "      <td>FR221</td>\n",
       "      <td>b'fr:Aisne (d\\xe9partement)'</td>\n",
       "      <td>POLYGON ((3.48175 48.86640, 3.48647 48.85768, ...</td>\n",
       "      <td>02</td>\n",
       "      <td>428461</td>\n",
       "      <td>414479</td>\n",
       "    </tr>\n",
       "    <tr>\n",
       "      <th>2</th>\n",
       "      <td>03</td>\n",
       "      <td>Allier</td>\n",
       "      <td>FR721</td>\n",
       "      <td>b'fr:Allier (d\\xe9partement)'</td>\n",
       "      <td>POLYGON ((2.38613 46.33196, 2.38407 46.33112, ...</td>\n",
       "      <td>03</td>\n",
       "      <td>253694</td>\n",
       "      <td>244675</td>\n",
       "    </tr>\n",
       "    <tr>\n",
       "      <th>3</th>\n",
       "      <td>04</td>\n",
       "      <td>Alpes-de-Haute-Provence</td>\n",
       "      <td>FR821</td>\n",
       "      <td>fr:Alpes-de-Haute-Provence</td>\n",
       "      <td>POLYGON ((6.66579 43.83120, 6.67673 43.83178, ...</td>\n",
       "      <td>04</td>\n",
       "      <td>55230</td>\n",
       "      <td>50509</td>\n",
       "    </tr>\n",
       "    <tr>\n",
       "      <th>4</th>\n",
       "      <td>05</td>\n",
       "      <td>Hautes-Alpes</td>\n",
       "      <td>FR822</td>\n",
       "      <td>fr:Hautes-Alpes</td>\n",
       "      <td>POLYGON ((6.24158 44.44686, 6.24411 44.44693, ...</td>\n",
       "      <td>05</td>\n",
       "      <td>65182</td>\n",
       "      <td>60889</td>\n",
       "    </tr>\n",
       "  </tbody>\n",
       "</table>\n",
       "</div>"
      ],
      "text/plain": [
       "  code_insee                      nom  nuts3                      wikipedia  \\\n",
       "0         01                      Ain  FR711     b'fr:Ain (d\\xe9partement)'   \n",
       "1         02                    Aisne  FR221   b'fr:Aisne (d\\xe9partement)'   \n",
       "2         03                   Allier  FR721  b'fr:Allier (d\\xe9partement)'   \n",
       "3         04  Alpes-de-Haute-Provence  FR821     fr:Alpes-de-Haute-Provence   \n",
       "4         05             Hautes-Alpes  FR822                fr:Hautes-Alpes   \n",
       "\n",
       "                                            geometry dpt   nBoys  nGirls  \n",
       "0  POLYGON ((5.25559 45.78459, 5.23987 45.77758, ...  01  222361  215543  \n",
       "1  POLYGON ((3.48175 48.86640, 3.48647 48.85768, ...  02  428461  414479  \n",
       "2  POLYGON ((2.38613 46.33196, 2.38407 46.33112, ...  03  253694  244675  \n",
       "3  POLYGON ((6.66579 43.83120, 6.67673 43.83178, ...  04   55230   50509  \n",
       "4  POLYGON ((6.24158 44.44686, 6.24411 44.44693, ...  05   65182   60889  "
      ]
     },
     "execution_count": 51,
     "metadata": {},
     "output_type": "execute_result"
    }
   ],
   "source": [
    "dpt_boys=prenoms[prenoms.sexe == 1].groupby(\"dpt\").nombre.sum().reset_index()\n",
    "dpt_boys.rename(columns = {'nombre':'nBoys'}, inplace=True)\n",
    "\n",
    "dpt_girls=prenoms[prenoms.sexe == 2].groupby(\"dpt\").nombre.sum().reset_index()\n",
    "dpt_girls.rename(columns = {'nombre':'nGirls'}, inplace=True)\n",
    "\n",
    "merged =  dpt_boys.merge(dpt_girls, on='dpt')\n",
    "merged[\"code_insee\"]= merged.dpt #ajout code_insee pour merge avec map_df\n",
    "\n",
    "merged = map_df.merge(merged,on=\"code_insee\")\n",
    "merged.head()"
   ]
  },
  {
   "cell_type": "code",
   "execution_count": 52,
   "metadata": {},
   "outputs": [
    {
     "data": {
      "text/plain": [
       "<AxesSubplot:>"
      ]
     },
     "execution_count": 52,
     "metadata": {},
     "output_type": "execute_result"
    },
    {
     "data": {
      "image/png": "[encoded data removed]",
      "text/plain": [
       "<Figure size 576x432 with 2 Axes>"
      ]
     },
     "metadata": {
      "needs_background": "light"
     },
     "output_type": "display_data"
    }
   ],
   "source": [
    "# Merge\n",
    "merged['ratio'] = merged['nBoys'] / merged['nGirls']\n",
    "\n",
    "fig, ax = plt.subplots(1, figsize=(8, 6))\n",
    "\n",
    "merged.plot(column=\"ratio\", ax=ax , linewidth=0.3, edgecolor=\"0.5\", legend=True, legend_kwds\n",
    "             ={\"label\": \"ratio boys and girls names by Departement\"})"
   ]
  },
  {
   "cell_type": "markdown",
   "metadata": {},
   "source": [
    "## The same but weighted by total dpt population"
   ]
  },
  {
   "cell_type": "code",
   "execution_count": 53,
   "metadata": {},
   "outputs": [
    {
     "data": {
      "text/html": [
       "<div>\n",
       "<style scoped>\n",
       "    .dataframe tbody tr th:only-of-type {\n",
       "        vertical-align: middle;\n",
       "    }\n",
       "\n",
       "    .dataframe tbody tr th {\n",
       "        vertical-align: top;\n",
       "    }\n",
       "\n",
       "    .dataframe thead th {\n",
       "        text-align: right;\n",
       "    }\n",
       "</style>\n",
       "<table border=\"1\" class=\"dataframe\">\n",
       "  <thead>\n",
       "    <tr style=\"text-align: right;\">\n",
       "      <th></th>\n",
       "      <th>dpt</th>\n",
       "      <th>DEP</th>\n",
       "      <th>NBARR</th>\n",
       "      <th>NBCAN</th>\n",
       "      <th>NBCOM</th>\n",
       "      <th>PMUN</th>\n",
       "      <th>PTOT</th>\n",
       "      <th>Unnamed: 7</th>\n",
       "    </tr>\n",
       "  </thead>\n",
       "  <tbody>\n",
       "    <tr>\n",
       "      <th>0</th>\n",
       "      <td>01</td>\n",
       "      <td>Ain</td>\n",
       "      <td>4</td>\n",
       "      <td>23.0</td>\n",
       "      <td>393</td>\n",
       "      <td>643350</td>\n",
       "      <td>659180</td>\n",
       "      <td>NaN</td>\n",
       "    </tr>\n",
       "    <tr>\n",
       "      <th>1</th>\n",
       "      <td>02</td>\n",
       "      <td>Aisne</td>\n",
       "      <td>5</td>\n",
       "      <td>21.0</td>\n",
       "      <td>800</td>\n",
       "      <td>534490</td>\n",
       "      <td>546527</td>\n",
       "      <td>NaN</td>\n",
       "    </tr>\n",
       "    <tr>\n",
       "      <th>2</th>\n",
       "      <td>03</td>\n",
       "      <td>Allier</td>\n",
       "      <td>3</td>\n",
       "      <td>19.0</td>\n",
       "      <td>317</td>\n",
       "      <td>337988</td>\n",
       "      <td>347035</td>\n",
       "      <td>NaN</td>\n",
       "    </tr>\n",
       "    <tr>\n",
       "      <th>3</th>\n",
       "      <td>04</td>\n",
       "      <td>Alpes-de-Haute-Provence</td>\n",
       "      <td>4</td>\n",
       "      <td>15.0</td>\n",
       "      <td>198</td>\n",
       "      <td>163915</td>\n",
       "      <td>168381</td>\n",
       "      <td>NaN</td>\n",
       "    </tr>\n",
       "    <tr>\n",
       "      <th>4</th>\n",
       "      <td>05</td>\n",
       "      <td>Hautes-Alpes</td>\n",
       "      <td>2</td>\n",
       "      <td>15.0</td>\n",
       "      <td>162</td>\n",
       "      <td>141284</td>\n",
       "      <td>145883</td>\n",
       "      <td>NaN</td>\n",
       "    </tr>\n",
       "  </tbody>\n",
       "</table>\n",
       "</div>"
      ],
      "text/plain": [
       "  dpt                      DEP  NBARR  NBCAN  NBCOM    PMUN    PTOT  \\\n",
       "0  01                      Ain      4   23.0    393  643350  659180   \n",
       "1  02                    Aisne      5   21.0    800  534490  546527   \n",
       "2  03                   Allier      3   19.0    317  337988  347035   \n",
       "3  04  Alpes-de-Haute-Provence      4   15.0    198  163915  168381   \n",
       "4  05             Hautes-Alpes      2   15.0    162  141284  145883   \n",
       "\n",
       "   Unnamed: 7  \n",
       "0         NaN  \n",
       "1         NaN  \n",
       "2         NaN  \n",
       "3         NaN  \n",
       "4         NaN  "
      ]
     },
     "execution_count": 53,
     "metadata": {},
     "output_type": "execute_result"
    }
   ],
   "source": [
    "dpt_df = pd.read_csv(\"Departements.csv\", sep=\";\")\n",
    "dpt_df.rename(columns = {'CODDEP':'dpt'}, inplace=True)\n",
    "\n",
    "dpt_df.head()"
   ]
  },
  {
   "cell_type": "code",
   "execution_count": 54,
   "metadata": {},
   "outputs": [
    {
     "data": {
      "text/html": [
       "<div>\n",
       "<style scoped>\n",
       "    .dataframe tbody tr th:only-of-type {\n",
       "        vertical-align: middle;\n",
       "    }\n",
       "\n",
       "    .dataframe tbody tr th {\n",
       "        vertical-align: top;\n",
       "    }\n",
       "\n",
       "    .dataframe thead th {\n",
       "        text-align: right;\n",
       "    }\n",
       "</style>\n",
       "<table border=\"1\" class=\"dataframe\">\n",
       "  <thead>\n",
       "    <tr style=\"text-align: right;\">\n",
       "      <th></th>\n",
       "      <th>code_insee</th>\n",
       "      <th>nom</th>\n",
       "      <th>nuts3</th>\n",
       "      <th>wikipedia</th>\n",
       "      <th>geometry</th>\n",
       "      <th>dpt</th>\n",
       "      <th>nBoys</th>\n",
       "      <th>nGirls</th>\n",
       "      <th>ratio</th>\n",
       "      <th>DEP</th>\n",
       "      <th>NBARR</th>\n",
       "      <th>NBCAN</th>\n",
       "      <th>NBCOM</th>\n",
       "      <th>PMUN</th>\n",
       "      <th>PTOT</th>\n",
       "      <th>Unnamed: 7</th>\n",
       "    </tr>\n",
       "  </thead>\n",
       "  <tbody>\n",
       "    <tr>\n",
       "      <th>0</th>\n",
       "      <td>01</td>\n",
       "      <td>Ain</td>\n",
       "      <td>FR711</td>\n",
       "      <td>b'fr:Ain (d\\xe9partement)'</td>\n",
       "      <td>POLYGON ((5.25559 45.78459, 5.23987 45.77758, ...</td>\n",
       "      <td>01</td>\n",
       "      <td>222361</td>\n",
       "      <td>215543</td>\n",
       "      <td>1.031632</td>\n",
       "      <td>Ain</td>\n",
       "      <td>4</td>\n",
       "      <td>23.0</td>\n",
       "      <td>393</td>\n",
       "      <td>643350</td>\n",
       "      <td>659180</td>\n",
       "      <td>NaN</td>\n",
       "    </tr>\n",
       "    <tr>\n",
       "      <th>1</th>\n",
       "      <td>02</td>\n",
       "      <td>Aisne</td>\n",
       "      <td>FR221</td>\n",
       "      <td>b'fr:Aisne (d\\xe9partement)'</td>\n",
       "      <td>POLYGON ((3.48175 48.86640, 3.48647 48.85768, ...</td>\n",
       "      <td>02</td>\n",
       "      <td>428461</td>\n",
       "      <td>414479</td>\n",
       "      <td>1.033734</td>\n",
       "      <td>Aisne</td>\n",
       "      <td>5</td>\n",
       "      <td>21.0</td>\n",
       "      <td>800</td>\n",
       "      <td>534490</td>\n",
       "      <td>546527</td>\n",
       "      <td>NaN</td>\n",
       "    </tr>\n",
       "    <tr>\n",
       "      <th>2</th>\n",
       "      <td>03</td>\n",
       "      <td>Allier</td>\n",
       "      <td>FR721</td>\n",
       "      <td>b'fr:Allier (d\\xe9partement)'</td>\n",
       "      <td>POLYGON ((2.38613 46.33196, 2.38407 46.33112, ...</td>\n",
       "      <td>03</td>\n",
       "      <td>253694</td>\n",
       "      <td>244675</td>\n",
       "      <td>1.036861</td>\n",
       "      <td>Allier</td>\n",
       "      <td>3</td>\n",
       "      <td>19.0</td>\n",
       "      <td>317</td>\n",
       "      <td>337988</td>\n",
       "      <td>347035</td>\n",
       "      <td>NaN</td>\n",
       "    </tr>\n",
       "    <tr>\n",
       "      <th>3</th>\n",
       "      <td>04</td>\n",
       "      <td>Alpes-de-Haute-Provence</td>\n",
       "      <td>FR821</td>\n",
       "      <td>fr:Alpes-de-Haute-Provence</td>\n",
       "      <td>POLYGON ((6.66579 43.83120, 6.67673 43.83178, ...</td>\n",
       "      <td>04</td>\n",
       "      <td>55230</td>\n",
       "      <td>50509</td>\n",
       "      <td>1.093468</td>\n",
       "      <td>Alpes-de-Haute-Provence</td>\n",
       "      <td>4</td>\n",
       "      <td>15.0</td>\n",
       "      <td>198</td>\n",
       "      <td>163915</td>\n",
       "      <td>168381</td>\n",
       "      <td>NaN</td>\n",
       "    </tr>\n",
       "    <tr>\n",
       "      <th>4</th>\n",
       "      <td>05</td>\n",
       "      <td>Hautes-Alpes</td>\n",
       "      <td>FR822</td>\n",
       "      <td>fr:Hautes-Alpes</td>\n",
       "      <td>POLYGON ((6.24158 44.44686, 6.24411 44.44693, ...</td>\n",
       "      <td>05</td>\n",
       "      <td>65182</td>\n",
       "      <td>60889</td>\n",
       "      <td>1.070505</td>\n",
       "      <td>Hautes-Alpes</td>\n",
       "      <td>2</td>\n",
       "      <td>15.0</td>\n",
       "      <td>162</td>\n",
       "      <td>141284</td>\n",
       "      <td>145883</td>\n",
       "      <td>NaN</td>\n",
       "    </tr>\n",
       "  </tbody>\n",
       "</table>\n",
       "</div>"
      ],
      "text/plain": [
       "  code_insee                      nom  nuts3                      wikipedia  \\\n",
       "0         01                      Ain  FR711     b'fr:Ain (d\\xe9partement)'   \n",
       "1         02                    Aisne  FR221   b'fr:Aisne (d\\xe9partement)'   \n",
       "2         03                   Allier  FR721  b'fr:Allier (d\\xe9partement)'   \n",
       "3         04  Alpes-de-Haute-Provence  FR821     fr:Alpes-de-Haute-Provence   \n",
       "4         05             Hautes-Alpes  FR822                fr:Hautes-Alpes   \n",
       "\n",
       "                                            geometry dpt   nBoys  nGirls  \\\n",
       "0  POLYGON ((5.25559 45.78459, 5.23987 45.77758, ...  01  222361  215543   \n",
       "1  POLYGON ((3.48175 48.86640, 3.48647 48.85768, ...  02  428461  414479   \n",
       "2  POLYGON ((2.38613 46.33196, 2.38407 46.33112, ...  03  253694  244675   \n",
       "3  POLYGON ((6.66579 43.83120, 6.67673 43.83178, ...  04   55230   50509   \n",
       "4  POLYGON ((6.24158 44.44686, 6.24411 44.44693, ...  05   65182   60889   \n",
       "\n",
       "      ratio                      DEP  NBARR  NBCAN  NBCOM    PMUN    PTOT  \\\n",
       "0  1.031632                      Ain      4   23.0    393  643350  659180   \n",
       "1  1.033734                    Aisne      5   21.0    800  534490  546527   \n",
       "2  1.036861                   Allier      3   19.0    317  337988  347035   \n",
       "3  1.093468  Alpes-de-Haute-Provence      4   15.0    198  163915  168381   \n",
       "4  1.070505             Hautes-Alpes      2   15.0    162  141284  145883   \n",
       "\n",
       "   Unnamed: 7  \n",
       "0         NaN  \n",
       "1         NaN  \n",
       "2         NaN  \n",
       "3         NaN  \n",
       "4         NaN  "
      ]
     },
     "execution_count": 54,
     "metadata": {},
     "output_type": "execute_result"
    }
   ],
   "source": [
    "merged = merged.merge(dpt_df, on=\"dpt\")\n",
    "merged.head()"
   ]
  },
  {
   "cell_type": "code",
   "execution_count": 55,
   "metadata": {},
   "outputs": [
    {
     "data": {
      "text/plain": [
       "<AxesSubplot:>"
      ]
     },
     "execution_count": 55,
     "metadata": {},
     "output_type": "execute_result"
    },
    {
     "data": {
      "image/png": "[encoded data removed]",
      "text/plain": [
       "<Figure size 576x432 with 2 Axes>"
      ]
     },
     "metadata": {
      "needs_background": "light"
     },
     "output_type": "display_data"
    }
   ],
   "source": [
    "fig, ax = plt.subplots(1, figsize=(8, 6))\n",
    "merged['ecartBoysGirls'] = (merged['nBoys'] - merged['nGirls']) / merged['PTOT']\n",
    "\n",
    "merged.plot(column=\"ecartBoysGirls\", ax=ax , linewidth=0.3, edgecolor=\"0.5\", legend=True, legend_kwds\n",
    "             ={\"label\": \"Supp boys by Departement\"})"
   ]
  },
  {
   "cell_type": "markdown",
   "metadata": {},
   "source": [
    "## Choropleth map : number of girls named Emma born in 2018"
   ]
  },
  {
   "cell_type": "code",
   "execution_count": 56,
   "metadata": {},
   "outputs": [
    {
     "data": {
      "text/plain": [
       "<AxesSubplot:>"
      ]
     },
     "execution_count": 56,
     "metadata": {},
     "output_type": "execute_result"
    },
    {
     "data": {
      "image/png": "[encoded data removed]",
      "text/plain": [
       "<Figure size 576x432 with 2 Axes>"
      ]
     },
     "metadata": {
      "needs_background": "light"
     },
     "output_type": "display_data"
    }
   ],
   "source": [
    "dpt_emma=prenoms[prenoms.preusuel == 'EMMA'].groupby(\"dpt\").nombre.sum().reset_index()\n",
    "dpt_emma[\"code_insee\"]= dpt_emma.dpt\n",
    "\n",
    "# Merge\n",
    "\n",
    "merged = map_df.merge(dpt_emma,on=\"code_insee\")\n",
    "\n",
    "# plot\n",
    "fig, ax = plt.subplots(1, figsize=(8, 6))\n",
    "\n",
    "merged.plot(column=\"nombre\", ax=ax , linewidth=0.3, edgecolor=\"0.5\", legend=True, legend_kwds\n",
    "             ={\"label\": \"number of Emma by Departement\"})"
   ]
  },
  {
   "cell_type": "markdown",
   "metadata": {},
   "source": [
    "## Same but weighted by total dpt population (ex nb of Emma births per thousand of population in the dpt)"
   ]
  },
  {
   "cell_type": "code",
   "execution_count": 57,
   "metadata": {},
   "outputs": [
    {
     "data": {
      "text/plain": [
       "<AxesSubplot:>"
      ]
     },
     "execution_count": 57,
     "metadata": {},
     "output_type": "execute_result"
    },
    {
     "data": {
      "image/png": "[encoded data removed]",
      "text/plain": [
       "<Figure size 576x432 with 2 Axes>"
      ]
     },
     "metadata": {
      "needs_background": "light"
     },
     "output_type": "display_data"
    }
   ],
   "source": [
    "# merge\n",
    "merged = merged.merge(dpt_df, on=\"dpt\")\n",
    "merged[\"prop\"] = merged[\"nombre\"] / merged['PTOT'] * 1000\n",
    "\n",
    "# plot\n",
    "fig, ax = plt.subplots(1, figsize=(8, 6))\n",
    "\n",
    "merged.plot(column=\"prop\", ax=ax , linewidth=0.3, edgecolor=\"0.5\", legend=True, legend_kwds\n",
    "             ={\"label\": \"number of Emma by Departement for 1000 hab\"})"
   ]
  }
 ],
 "metadata": {
  "kernelspec": {
   "display_name": "Python 3",
   "language": "python",
   "name": "python3"
  },
  "language_info": {
   "codemirror_mode": {
    "name": "ipython",
    "version": 3
   },
   "file_extension": ".py",
   "mimetype": "text/x-python",
   "name": "python",
   "nbconvert_exporter": "python",
   "pygments_lexer": "ipython3",
   "version": "3.8.6"
  }
 },
 "nbformat": 4,
 "nbformat_minor": 4
}
